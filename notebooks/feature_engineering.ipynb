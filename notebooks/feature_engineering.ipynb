{
 "cells": [
  {
   "cell_type": "code",
   "execution_count": 1,
   "metadata": {},
   "outputs": [],
   "source": [
    "import pandas as pd\n",
    "import numpy as np\n",
    "import matplotlib.pyplot as plt\n",
    "# import plotly.offline as pyo\n",
    "# import plotly.graph_objects as go\n",
    "# import plotly.io as pio\n",
    "# import plotly.express as px\n",
    "import time\n",
    "import os\n",
    "import seaborn as sns"
   ]
  },
  {
   "cell_type": "code",
   "execution_count": 2,
   "metadata": {},
   "outputs": [],
   "source": [
    "# Configuración para mostrar todas las filas\n",
    "pd.set_option('display.max_rows', None)\n",
    "\n",
    "# Configuración para mostrar todas las columnas\n",
    "pd.set_option('display.max_columns', None)"
   ]
  },
  {
   "cell_type": "code",
   "execution_count": 3,
   "metadata": {},
   "outputs": [],
   "source": [
    "# Para resetear la configuración anterior\n",
    "pd.reset_option('display.max_rows')\n",
    "pd.reset_option('display.max_columns')"
   ]
  },
  {
   "cell_type": "markdown",
   "metadata": {},
   "source": [
    "## Importamos los CSV procesados para unificarlos en un mismo Dataframe para poder trabajar toda la data unificada."
   ]
  },
  {
   "cell_type": "code",
   "execution_count": 4,
   "metadata": {},
   "outputs": [
    {
     "name": "stdout",
     "output_type": "stream",
     "text": [
      "<class 'pandas.core.frame.DataFrame'>\n",
      "RangeIndex: 1211 entries, 0 to 1210\n",
      "Data columns (total 13 columns):\n",
      " #   Column            Non-Null Count  Dtype  \n",
      "---  ------            --------------  -----  \n",
      " 0   calle             1211 non-null   object \n",
      " 1   barrio            1211 non-null   object \n",
      " 2   municipio         1127 non-null   object \n",
      " 3   tipo_vivienda     1147 non-null   object \n",
      " 4   titulo            1211 non-null   object \n",
      " 5   habitaciones      1119 non-null   float64\n",
      " 6   metros_cuadrados  1210 non-null   float64\n",
      " 7   aseos             631 non-null    float64\n",
      " 8   planta            459 non-null    object \n",
      " 9   descripcion       1193 non-null   object \n",
      " 10  etiquetas         1211 non-null   object \n",
      " 11  garaje            1211 non-null   object \n",
      " 12  precio            1206 non-null   float64\n",
      "dtypes: float64(4), object(9)\n",
      "memory usage: 123.1+ KB\n"
     ]
    }
   ],
   "source": [
    "carpeta_csv = \"../data/procesado\"\n",
    "dataframes = []\n",
    "\n",
    "# Iterar sobre todos los archivos en la carpeta\n",
    "for archivo in os.listdir(carpeta_csv):\n",
    "    if archivo.endswith(\".csv\"):\n",
    "        ruta_archivo = os.path.join(carpeta_csv, archivo)\n",
    "        # Leer el CSV y añadirlo a la lista\n",
    "        df = pd.read_csv(ruta_archivo, sep=\",\", index_col=0)\n",
    "        dataframes.append(df)\n",
    "\n",
    "df = pd.concat(dataframes, ignore_index=False).reset_index(drop=True)\n",
    "\n",
    "df.info()"
   ]
  },
  {
   "cell_type": "code",
   "execution_count": 5,
   "metadata": {},
   "outputs": [
    {
     "data": {
      "text/html": [
       "<div>\n",
       "<style scoped>\n",
       "    .dataframe tbody tr th:only-of-type {\n",
       "        vertical-align: middle;\n",
       "    }\n",
       "\n",
       "    .dataframe tbody tr th {\n",
       "        vertical-align: top;\n",
       "    }\n",
       "\n",
       "    .dataframe thead th {\n",
       "        text-align: right;\n",
       "    }\n",
       "</style>\n",
       "<table border=\"1\" class=\"dataframe\">\n",
       "  <thead>\n",
       "    <tr style=\"text-align: right;\">\n",
       "      <th></th>\n",
       "      <th>calle</th>\n",
       "      <th>barrio</th>\n",
       "      <th>municipio</th>\n",
       "      <th>tipo_vivienda</th>\n",
       "      <th>titulo</th>\n",
       "      <th>habitaciones</th>\n",
       "      <th>metros_cuadrados</th>\n",
       "      <th>aseos</th>\n",
       "      <th>planta</th>\n",
       "      <th>descripcion</th>\n",
       "      <th>etiquetas</th>\n",
       "      <th>garaje</th>\n",
       "      <th>precio</th>\n",
       "    </tr>\n",
       "  </thead>\n",
       "  <tbody>\n",
       "    <tr>\n",
       "      <th>0</th>\n",
       "      <td>Casa o chalet en venta</td>\n",
       "      <td>en Aldaia</td>\n",
       "      <td>Manises</td>\n",
       "      <td>Chalet</td>\n",
       "      <td>Casa o chalet en venta en Aldaia</td>\n",
       "      <td>NaN</td>\n",
       "      <td>414.0</td>\n",
       "      <td>NaN</td>\n",
       "      <td>NaN</td>\n",
       "      <td>Espectacular CASA de pueblo con una ubicada PR...</td>\n",
       "      <td>[]</td>\n",
       "      <td>No</td>\n",
       "      <td>230000.0</td>\n",
       "    </tr>\n",
       "    <tr>\n",
       "      <th>1</th>\n",
       "      <td>Piso en venta en Santos Justo y Pastor</td>\n",
       "      <td>El Mercado</td>\n",
       "      <td>Manises</td>\n",
       "      <td>Piso</td>\n",
       "      <td>Piso en venta en Santos Justo y Pastor, El Mer...</td>\n",
       "      <td>2.0</td>\n",
       "      <td>53.0</td>\n",
       "      <td>1.0</td>\n",
       "      <td>NaN</td>\n",
       "      <td>Sin comisiones de agencia. Piso ubicado en la ...</td>\n",
       "      <td>[]</td>\n",
       "      <td>No</td>\n",
       "      <td>60000.0</td>\n",
       "    </tr>\n",
       "  </tbody>\n",
       "</table>\n",
       "</div>"
      ],
      "text/plain": [
       "                                    calle      barrio municipio tipo_vivienda  \\\n",
       "0                  Casa o chalet en venta   en Aldaia   Manises        Chalet   \n",
       "1  Piso en venta en Santos Justo y Pastor  El Mercado   Manises          Piso   \n",
       "\n",
       "                                              titulo  habitaciones  \\\n",
       "0                   Casa o chalet en venta en Aldaia           NaN   \n",
       "1  Piso en venta en Santos Justo y Pastor, El Mer...           2.0   \n",
       "\n",
       "   metros_cuadrados  aseos planta  \\\n",
       "0             414.0    NaN    NaN   \n",
       "1              53.0    1.0    NaN   \n",
       "\n",
       "                                         descripcion etiquetas garaje  \\\n",
       "0  Espectacular CASA de pueblo con una ubicada PR...        []     No   \n",
       "1  Sin comisiones de agencia. Piso ubicado en la ...        []     No   \n",
       "\n",
       "     precio  \n",
       "0  230000.0  \n",
       "1   60000.0  "
      ]
     },
     "execution_count": 5,
     "metadata": {},
     "output_type": "execute_result"
    }
   ],
   "source": [
    "df.head(2)"
   ]
  },
  {
   "cell_type": "markdown",
   "metadata": {},
   "source": [
    "## Empezamos el Featuring Enginnering"
   ]
  },
  {
   "cell_type": "markdown",
   "metadata": {},
   "source": [
    "### Es frecuente que el **precio de la vivienda varíe en función de si se sitúa en el centro** de la ciudad/población o no, por lo que vamos a organizar y limpiar los datos de la columna **barrio** para determinar si ésta se encuentra en una zona céntrica. \n",
    "\n",
    "### Simplemente por comprobar si puede aportar valor al modelo."
   ]
  },
  {
   "cell_type": "code",
   "execution_count": 6,
   "metadata": {},
   "outputs": [
    {
     "data": {
      "text/plain": [
       "barrio                      \n",
       "Centro Ciudad                   144\n",
       "La Cañada                       117\n",
       "Aldaia                           84\n",
       "en Aldaia                        68\n",
       "El Mercado                       64\n",
       "                               ... \n",
       "en Alaquás                        1\n",
       "en Benimàmet                      1\n",
       "Ático en Santa Rita               1\n",
       "Ático en calle Doctor Cortés      1\n",
       "Ático en calle Minglanilla        1\n",
       "Name: count, Length: 121, dtype: int64"
      ]
     },
     "execution_count": 6,
     "metadata": {},
     "output_type": "execute_result"
    }
   ],
   "source": [
    "df.loc[:, [\"barrio\"]].value_counts()"
   ]
  },
  {
   "cell_type": "code",
   "execution_count": 7,
   "metadata": {},
   "outputs": [
    {
     "data": {
      "text/plain": [
       "zona_centro\n",
       "0    930\n",
       "1    281\n",
       "Name: count, dtype: int64"
      ]
     },
     "execution_count": 7,
     "metadata": {},
     "output_type": "execute_result"
    }
   ],
   "source": [
    "def ajuste_manual_barrio(texto):\n",
    "    if \"centro\" in texto.lower() or \"centre\" in texto.lower() or \"centr\" in texto.lower():\n",
    "        texto = 1\n",
    "    else:\n",
    "        texto = 0\n",
    "\n",
    "    return texto\n",
    "\n",
    "# Convertir la columna a texto, reemplazando los posible NaN con una cadena vacía\n",
    "df['barrio'] = df['barrio'].fillna('').astype(str)\n",
    "\n",
    "df['zona_centro'] = df['barrio'].apply(ajuste_manual_barrio)\n",
    "df['zona_centro'].value_counts()"
   ]
  },
  {
   "cell_type": "code",
   "execution_count": 8,
   "metadata": {},
   "outputs": [
    {
     "data": {
      "text/plain": [
       "np.int64(0)"
      ]
     },
     "execution_count": 8,
     "metadata": {},
     "output_type": "execute_result"
    }
   ],
   "source": [
    "df[\"zona_centro\"].isna().sum() # Comprobamos si existen valores NaN"
   ]
  },
  {
   "cell_type": "markdown",
   "metadata": {},
   "source": [
    "### Una vez definido si es zona centro o no, **eliminamos la columna \"barrio\"**"
   ]
  },
  {
   "cell_type": "code",
   "execution_count": 9,
   "metadata": {},
   "outputs": [
    {
     "data": {
      "text/plain": [
       "Index(['calle', 'municipio', 'tipo_vivienda', 'titulo', 'habitaciones',\n",
       "       'metros_cuadrados', 'aseos', 'planta', 'descripcion', 'etiquetas',\n",
       "       'garaje', 'precio', 'zona_centro'],\n",
       "      dtype='object')"
      ]
     },
     "execution_count": 9,
     "metadata": {},
     "output_type": "execute_result"
    }
   ],
   "source": [
    "df = df.drop([\"barrio\"], axis=1)\n",
    "df.columns"
   ]
  },
  {
   "cell_type": "markdown",
   "metadata": {},
   "source": [
    "### Observamos tambien la de municipio.\n"
   ]
  },
  {
   "cell_type": "code",
   "execution_count": 10,
   "metadata": {},
   "outputs": [
    {
     "name": "stdout",
     "output_type": "stream",
     "text": [
      "Valores NaN: 84\n"
     ]
    },
    {
     "data": {
      "text/plain": [
       "municipio\n",
       "Manises               658\n",
       "Paterna               397\n",
       "Aldaia                 43\n",
       "Quart de Poblet        24\n",
       "Riba-Roja de Túria      5\n",
       "Name: count, dtype: int64"
      ]
     },
     "execution_count": 10,
     "metadata": {},
     "output_type": "execute_result"
    }
   ],
   "source": [
    "print(\"Valores NaN:\", df[\"municipio\"].isna().sum()) # Comprobamos si existen valores NaN\n",
    "df['municipio'].value_counts()"
   ]
  },
  {
   "cell_type": "code",
   "execution_count": 11,
   "metadata": {},
   "outputs": [
    {
     "data": {
      "text/plain": [
       "municipio\n",
       "Manises               658\n",
       "Paterna               397\n",
       "Otro                   84\n",
       "Aldaia                 43\n",
       "Quart de Poblet        24\n",
       "Riba-Roja de Túria      5\n",
       "Name: count, dtype: int64"
      ]
     },
     "execution_count": 11,
     "metadata": {},
     "output_type": "execute_result"
    }
   ],
   "source": [
    "df['municipio'] = df[\"municipio\"].fillna('Otro') # De momento asignamos \"Otro\" a los valores NaN\n",
    "df['municipio'].value_counts()"
   ]
  },
  {
   "cell_type": "markdown",
   "metadata": {},
   "source": [
    "### Observamos la siguiente columna, **\"tipo_vivienda\"** y si existen valores **NaN.**"
   ]
  },
  {
   "cell_type": "code",
   "execution_count": 12,
   "metadata": {},
   "outputs": [
    {
     "name": "stdout",
     "output_type": "stream",
     "text": [
      "Valores NaN: 64\n"
     ]
    },
    {
     "data": {
      "text/plain": [
       "tipo_vivienda\n",
       "Piso            659\n",
       "Chalet          351\n",
       "Casa            102\n",
       "Casa adosada     17\n",
       "Planta baja      11\n",
       "Finca             6\n",
       "Estudio           1\n",
       "Name: count, dtype: int64"
      ]
     },
     "execution_count": 12,
     "metadata": {},
     "output_type": "execute_result"
    }
   ],
   "source": [
    "print(\"Valores NaN:\", df[\"tipo_vivienda\"].isna().sum()) # Comprobamos si existen valores NaN\n",
    "df[\"tipo_vivienda\"].value_counts()"
   ]
  },
  {
   "cell_type": "markdown",
   "metadata": {},
   "source": [
    "### Si observamos la informacion de dichos valores NaN para tipo de vivienda, podemos encontrar en la columna **\"calle\"**: Duplex, Áticos, Fincas, Estudios, etc."
   ]
  },
  {
   "cell_type": "code",
   "execution_count": 13,
   "metadata": {},
   "outputs": [
    {
     "data": {
      "text/plain": [
       "calle                                           \n",
       "Ático                                               7\n",
       "Dúplex                                              5\n",
       "Dúplex en calle de la Baixada del Riu               4\n",
       "Ático en calle Dels molins                          4\n",
       "Ático en calle Penyal d'Ifach                       4\n",
       "Ático en calle de les Roses                         4\n",
       "Dúplex en calle de Catarroja                        2\n",
       "Ático en calle Miguel Hernandez                     2\n",
       "Cortijo en calle Major                              1\n",
       "Cortijo en La Presa - Collado - La Malla            1\n",
       "Chalet pareado en La Cañada                         1\n",
       "Chalet en calle Vicent Guzmán                       1\n",
       "Chalet en El Alborgí                                1\n",
       "Chalet en La Cañada                                 1\n",
       "Chalet adosado en reis catolics                     1\n",
       "Dúplex en Alameda Park                              1\n",
       "Dúplex en calle Domenyo                             1\n",
       "Dúplex en avenida Puigcampana                       1\n",
       "Dúplex en calle Riu Vinalopo                        1\n",
       "Dúplex en Miguel Hernández                          1\n",
       "Dúplex en Santa Rita                                1\n",
       "Dúplex en avenida Dos de Maig                       1\n",
       "Dúplex en Poligono del Aeropuerto                   1\n",
       "Dúplex en Saleta                                    1\n",
       "Estudio en puig                                     1\n",
       "Estudio en calle de los molinos                     1\n",
       "Estudio en Virgen De Belen                          1\n",
       "Dúplex en calle del Cid                             1\n",
       "Dúplex en calle Maestro Breton                      1\n",
       "Loft en calle de Coladores                          1\n",
       "Finca rústica en plaza Poligono 29                  1\n",
       "Finca rústica                                       1\n",
       "Ático en calle Alacant                              1\n",
       "Ático en calle 30                                   1\n",
       "Ático en Santa Rita                                 1\n",
       "Ático en calle Doctor Cortés                        1\n",
       "Ático en calle Minglanilla                          1\n",
       "Ático en calle Doctor Juan Bta. Peset Aleixandre    1\n",
       "Ático en calle de l'Alborgí                         1\n",
       "Ático en calle del Santíssim Crist de la Fe         1\n",
       "Name: count, dtype: int64"
      ]
     },
     "execution_count": 13,
     "metadata": {},
     "output_type": "execute_result"
    }
   ],
   "source": [
    "df.loc[df[\"tipo_vivienda\"].isna(), [\"calle\"]].value_counts()"
   ]
  },
  {
   "cell_type": "markdown",
   "metadata": {},
   "source": [
    "### Por lo que vamos a filtrar y asignar el tipo de vivienda correspondiente para cada una, teniendo en cuenta los tipos que anteriormente teniamos."
   ]
  },
  {
   "cell_type": "code",
   "execution_count": 14,
   "metadata": {},
   "outputs": [
    {
     "name": "stdout",
     "output_type": "stream",
     "text": [
      "Valores NaN: 0\n"
     ]
    },
    {
     "data": {
      "text/plain": [
       "tipo_vivienda\n",
       "Piso            710\n",
       "Chalet          356\n",
       "Casa            102\n",
       "Casa adosada     17\n",
       "Planta baja      11\n",
       "Finca            10\n",
       "Estudio           5\n",
       "Name: count, dtype: int64"
      ]
     },
     "execution_count": 14,
     "metadata": {},
     "output_type": "execute_result"
    }
   ],
   "source": [
    "# Piso          \n",
    "# Chalet         \n",
    "# Casa            \n",
    "# Planta baja       \n",
    "# Casa adosada      \n",
    "# Finca             \n",
    "# Estudio           \n",
    "\n",
    "def ajuste_manual_tipovivienda(texto):\n",
    "    # Para definir si es PISO\n",
    "    if \"piso\" in texto.lower():\n",
    "        texto = \"Piso\"\n",
    "    elif \"atico\" in texto.lower() or \"ático\" in texto.lower():\n",
    "        texto = \"Piso\"\n",
    "    elif \"duplex\" in texto.lower() or \"dúplex\" in texto.lower():\n",
    "        texto = \"Piso\"\n",
    "    # Para definir si es CHALET \n",
    "    elif \"chalet\" in texto.lower():\n",
    "        texto = \"Chalet\"\n",
    "    # Para definir si es CASA \n",
    "    elif \"casa\" in texto.lower():\n",
    "        texto = \"Casa\"\n",
    "    # Para definir si es PLANTA BAJA \n",
    "    elif \"planta\" in texto.lower():\n",
    "        texto = \"Planta baja\"\n",
    "    # Para definir si es CASA ADOSADA \n",
    "    elif \"adosada\" in texto.lower():\n",
    "        texto = \"Casa adosada\"\n",
    "    # Para definir si es FINCA \n",
    "    elif \"finca\" in texto.lower() or \"cortijo\" in texto.lower():\n",
    "        texto = \"Finca\"\n",
    "    # Para definir si es ESTUDIO \n",
    "    elif \"estudio\" in texto.lower() or \"loft\" in texto.lower():\n",
    "        texto = \"Estudio\"\n",
    "    # Si no es ninguna de la anteriores, se asignará la más común.\n",
    "    else:\n",
    "        texto = \"Piso\"\n",
    "\n",
    "    return texto\n",
    "\n",
    "# Filas con NaN en \"tipo_vivienda\"\n",
    "mask_nan = df[\"tipo_vivienda\"].isna()\n",
    "\n",
    "# Aplicar la función solo a las filas con NaN\n",
    "df.loc[mask_nan, \"tipo_vivienda\"] = df.loc[mask_nan, \"calle\"].apply(ajuste_manual_tipovivienda)\n",
    "print(\"Valores NaN:\", df[\"tipo_vivienda\"].isna().sum()) # Comprobamos si existen valores NaN\n",
    "df[\"tipo_vivienda\"].value_counts()"
   ]
  },
  {
   "cell_type": "markdown",
   "metadata": {},
   "source": [
    "### Listo, ya tenemos la columna **\"tipo_vivienda\"** libre de NaN y con sus respectivos tipos"
   ]
  },
  {
   "cell_type": "markdown",
   "metadata": {},
   "source": [
    "### Ahora procedemos a **eliminar** las columnas **\"Calle\" y \"Titulo\"**, ya que no las vamos a necesitar. La columna **\"Descripcion\"** la mantenemos de momento ya que nos puede dar información más adelante."
   ]
  },
  {
   "cell_type": "code",
   "execution_count": 15,
   "metadata": {},
   "outputs": [
    {
     "data": {
      "text/html": [
       "<div>\n",
       "<style scoped>\n",
       "    .dataframe tbody tr th:only-of-type {\n",
       "        vertical-align: middle;\n",
       "    }\n",
       "\n",
       "    .dataframe tbody tr th {\n",
       "        vertical-align: top;\n",
       "    }\n",
       "\n",
       "    .dataframe thead th {\n",
       "        text-align: right;\n",
       "    }\n",
       "</style>\n",
       "<table border=\"1\" class=\"dataframe\">\n",
       "  <thead>\n",
       "    <tr style=\"text-align: right;\">\n",
       "      <th></th>\n",
       "      <th>municipio</th>\n",
       "      <th>tipo_vivienda</th>\n",
       "      <th>habitaciones</th>\n",
       "      <th>metros_cuadrados</th>\n",
       "      <th>aseos</th>\n",
       "      <th>planta</th>\n",
       "      <th>descripcion</th>\n",
       "      <th>etiquetas</th>\n",
       "      <th>garaje</th>\n",
       "      <th>precio</th>\n",
       "      <th>zona_centro</th>\n",
       "    </tr>\n",
       "  </thead>\n",
       "  <tbody>\n",
       "    <tr>\n",
       "      <th>0</th>\n",
       "      <td>Manises</td>\n",
       "      <td>Chalet</td>\n",
       "      <td>NaN</td>\n",
       "      <td>414.0</td>\n",
       "      <td>NaN</td>\n",
       "      <td>NaN</td>\n",
       "      <td>Espectacular CASA de pueblo con una ubicada PR...</td>\n",
       "      <td>[]</td>\n",
       "      <td>No</td>\n",
       "      <td>230000.0</td>\n",
       "      <td>0</td>\n",
       "    </tr>\n",
       "    <tr>\n",
       "      <th>1</th>\n",
       "      <td>Manises</td>\n",
       "      <td>Piso</td>\n",
       "      <td>2.0</td>\n",
       "      <td>53.0</td>\n",
       "      <td>1.0</td>\n",
       "      <td>NaN</td>\n",
       "      <td>Sin comisiones de agencia. Piso ubicado en la ...</td>\n",
       "      <td>[]</td>\n",
       "      <td>No</td>\n",
       "      <td>60000.0</td>\n",
       "      <td>0</td>\n",
       "    </tr>\n",
       "    <tr>\n",
       "      <th>2</th>\n",
       "      <td>Manises</td>\n",
       "      <td>Piso</td>\n",
       "      <td>4.0</td>\n",
       "      <td>190.0</td>\n",
       "      <td>1.0</td>\n",
       "      <td>NaN</td>\n",
       "      <td>VIVIENDA EN PLANTA BAJA JUNTO CON PRIMER PISO ...</td>\n",
       "      <td>[]</td>\n",
       "      <td>No</td>\n",
       "      <td>65000.0</td>\n",
       "      <td>0</td>\n",
       "    </tr>\n",
       "  </tbody>\n",
       "</table>\n",
       "</div>"
      ],
      "text/plain": [
       "  municipio tipo_vivienda  habitaciones  metros_cuadrados  aseos planta  \\\n",
       "0   Manises        Chalet           NaN             414.0    NaN    NaN   \n",
       "1   Manises          Piso           2.0              53.0    1.0    NaN   \n",
       "2   Manises          Piso           4.0             190.0    1.0    NaN   \n",
       "\n",
       "                                         descripcion etiquetas garaje  \\\n",
       "0  Espectacular CASA de pueblo con una ubicada PR...        []     No   \n",
       "1  Sin comisiones de agencia. Piso ubicado en la ...        []     No   \n",
       "2  VIVIENDA EN PLANTA BAJA JUNTO CON PRIMER PISO ...        []     No   \n",
       "\n",
       "     precio  zona_centro  \n",
       "0  230000.0            0  \n",
       "1   60000.0            0  \n",
       "2   65000.0            0  "
      ]
     },
     "execution_count": 15,
     "metadata": {},
     "output_type": "execute_result"
    }
   ],
   "source": [
    "df.drop(['calle', 'titulo'], axis=1, inplace=True)\n",
    "df.head(3)"
   ]
  },
  {
   "cell_type": "markdown",
   "metadata": {},
   "source": [
    "### Siguiente columna a observar, **\"Habitaciones\"**"
   ]
  },
  {
   "cell_type": "code",
   "execution_count": 16,
   "metadata": {},
   "outputs": [
    {
     "name": "stdout",
     "output_type": "stream",
     "text": [
      "Valores NaN: 92\n"
     ]
    },
    {
     "data": {
      "text/plain": [
       "habitaciones\n",
       "3.0      452\n",
       "4.0      286\n",
       "2.0      166\n",
       "5.0      103\n",
       "6.0       50\n",
       "1.0       34\n",
       "7.0       10\n",
       "8.0        4\n",
       "10.0       2\n",
       "9.0        2\n",
       "51.0       1\n",
       "126.0      1\n",
       "200.0      1\n",
       "11.0       1\n",
       "74.0       1\n",
       "67.0       1\n",
       "130.0      1\n",
       "94.0       1\n",
       "14.0       1\n",
       "16.0       1\n",
       "Name: count, dtype: int64"
      ]
     },
     "execution_count": 16,
     "metadata": {},
     "output_type": "execute_result"
    }
   ],
   "source": [
    "print(\"Valores NaN:\", df['habitaciones'].isna().sum())\n",
    "df[\"habitaciones\"].value_counts()"
   ]
  },
  {
   "cell_type": "code",
   "execution_count": 17,
   "metadata": {},
   "outputs": [],
   "source": [
    "# df[df[\"habitaciones\"]== 7] \n",
    "# df[df[\"habitaciones\"]== 8] \n",
    "# df[df[\"habitaciones\"]== 9] \n",
    "# df[df[\"habitaciones\"]== 10] \n",
    "# df[df[\"habitaciones\"]== 11]\n",
    "# df[df[\"habitaciones\"]== 16]  "
   ]
  },
  {
   "cell_type": "markdown",
   "metadata": {},
   "source": [
    "### Obvio, casas con 10, 11 habitaciones debería de tratarse de un chalet o finca, pero a partir de ese valor se considera como erróneo. \n",
    "\n",
    "### Por lo que **primero vamos a encontrar la info para los valores NaN** y posteriormente sólo las de a partir de 11 habitaciones y buscar la verdadera informacion en la columna **\"Descripcion\"**"
   ]
  },
  {
   "cell_type": "code",
   "execution_count": 18,
   "metadata": {},
   "outputs": [
    {
     "data": {
      "text/html": [
       "<div>\n",
       "<style scoped>\n",
       "    .dataframe tbody tr th:only-of-type {\n",
       "        vertical-align: middle;\n",
       "    }\n",
       "\n",
       "    .dataframe tbody tr th {\n",
       "        vertical-align: top;\n",
       "    }\n",
       "\n",
       "    .dataframe thead th {\n",
       "        text-align: right;\n",
       "    }\n",
       "</style>\n",
       "<table border=\"1\" class=\"dataframe\">\n",
       "  <thead>\n",
       "    <tr style=\"text-align: right;\">\n",
       "      <th></th>\n",
       "      <th>descripcion</th>\n",
       "    </tr>\n",
       "  </thead>\n",
       "  <tbody>\n",
       "    <tr>\n",
       "      <th>0</th>\n",
       "      <td>Espectacular CASA de pueblo con una ubicada PRIVILEGIADA: en...Leer más</td>\n",
       "    </tr>\n",
       "    <tr>\n",
       "      <th>1</th>\n",
       "      <td>Sin comisiones de agencia. Piso ubicado en la calle Sants Ju...Leer más</td>\n",
       "    </tr>\n",
       "    <tr>\n",
       "      <th>2</th>\n",
       "      <td>VIVIENDA EN PLANTA BAJA JUNTO CON PRIMER PISO SIN ASCENSOR\\nS...Leer más</td>\n",
       "    </tr>\n",
       "    <tr>\n",
       "      <th>3</th>\n",
       "      <td>Casa unifamiliar para reformar. Cuerpo principal de la casa ...Leer más</td>\n",
       "    </tr>\n",
       "    <tr>\n",
       "      <th>4</th>\n",
       "      <td>Exclusiva casa señorial ubicada en el centro de Aldaya, a ta...Leer más</td>\n",
       "    </tr>\n",
       "    <tr>\n",
       "      <th>...</th>\n",
       "      <td>...</td>\n",
       "    </tr>\n",
       "    <tr>\n",
       "      <th>1206</th>\n",
       "      <td>Esta es una oportunidad excepcional para vivir en una casa espectacular rodeada de naturaleza y tranquilidad. \\n\\nEsta propiedad ind...</td>\n",
       "    </tr>\n",
       "    <tr>\n",
       "      <th>1207</th>\n",
       "      <td>Casa de pueblo para derribar de unos 84 m² de solar, esquinera, donde podras levantar planta baja más dos alturas.\\nLa casa se sitú...</td>\n",
       "    </tr>\n",
       "    <tr>\n",
       "      <th>1208</th>\n",
       "      <td>Te gastaría  encontrar una oportunidad en manises, ? Aquí te presentamos un fabuloso piso para entrar a vivir, bien ubicado junto...</td>\n",
       "    </tr>\n",
       "    <tr>\n",
       "      <th>1209</th>\n",
       "      <td>Escalera 4-6º(ático)-b. Ático en un edificio de obra nueva de 58 m² de superficie construida y ubicado en la zona de manises, encl...</td>\n",
       "    </tr>\n",
       "    <tr>\n",
       "      <th>1210</th>\n",
       "      <td>En esta amplia parcela de 940 m² se encuentra este encantador chalet de estilo ibicenco, que ofrece 160 m² de vivienda en una sola...</td>\n",
       "    </tr>\n",
       "  </tbody>\n",
       "</table>\n",
       "<p>1211 rows × 1 columns</p>\n",
       "</div>"
      ],
      "text/plain": [
       "                                                                                                                                  descripcion\n",
       "0                                                                     Espectacular CASA de pueblo con una ubicada PRIVILEGIADA: en...Leer más\n",
       "1                                                                     Sin comisiones de agencia. Piso ubicado en la calle Sants Ju...Leer más\n",
       "2                                                                    VIVIENDA EN PLANTA BAJA JUNTO CON PRIMER PISO SIN ASCENSOR\\nS...Leer más\n",
       "3                                                                     Casa unifamiliar para reformar. Cuerpo principal de la casa ...Leer más\n",
       "4                                                                     Exclusiva casa señorial ubicada en el centro de Aldaya, a ta...Leer más\n",
       "...                                                                                                                                       ...\n",
       "1206  Esta es una oportunidad excepcional para vivir en una casa espectacular rodeada de naturaleza y tranquilidad. \\n\\nEsta propiedad ind...\n",
       "1207   Casa de pueblo para derribar de unos 84 m² de solar, esquinera, donde podras levantar planta baja más dos alturas.\\nLa casa se sitú...\n",
       "1208     Te gastaría  encontrar una oportunidad en manises, ? Aquí te presentamos un fabuloso piso para entrar a vivir, bien ubicado junto...\n",
       "1209    Escalera 4-6º(ático)-b. Ático en un edificio de obra nueva de 58 m² de superficie construida y ubicado en la zona de manises, encl...\n",
       "1210    En esta amplia parcela de 940 m² se encuentra este encantador chalet de estilo ibicenco, que ofrece 160 m² de vivienda en una sola...\n",
       "\n",
       "[1211 rows x 1 columns]"
      ]
     },
     "execution_count": 18,
     "metadata": {},
     "output_type": "execute_result"
    }
   ],
   "source": [
    "pd.set_option('display.max_colwidth', None) # Opcion para visualizar todo el ancho de la columna de df\n",
    "df.loc[:,[\"descripcion\"]]"
   ]
  },
  {
   "cell_type": "code",
   "execution_count": 19,
   "metadata": {},
   "outputs": [],
   "source": [
    "pd.reset_option('display.max_colwidth', None) # Opcion para resetear la funcion anterior"
   ]
  },
  {
   "cell_type": "markdown",
   "metadata": {},
   "source": [
    "### En ésta función trataremos de encontrar el número de habitaciones en la columna **\"descripción\" para los valores NaN**."
   ]
  },
  {
   "cell_type": "code",
   "execution_count": 20,
   "metadata": {},
   "outputs": [
    {
     "name": "stdout",
     "output_type": "stream",
     "text": [
      "Fila 213: -------->>> Aseos o baños encontrados: 3 ---> <re.Match object; span=(62, 74), match='3 dormitorio'>\n",
      "Fila 230: -------->>> Aseos o baños encontrados: 300 ---> <re.Match object; span=(22, 47), match='300 metros 4 habitaciones'>\n",
      "Fila 904: -------->>> Aseos o baños encontrados: 70 ---> <re.Match object; span=(110, 122), match='70 mts 1 hab'>\n",
      "Fila 913: -------->>> Aseos o baños encontrados: 65 ---> <re.Match object; span=(84, 103), match='65 mts 1 habitacion'>\n",
      "Fila 948: -------->>> Aseos o baños encontrados: 300 ---> <re.Match object; span=(22, 47), match='300 metros 4 habitaciones'>\n",
      "Fila 1009: -------->>> Aseos o baños encontrados: 5 ---> <re.Match object; span=(148, 183), match='5 está estructurado en 1 habitación'>\n",
      "Fila 1198: -------->>> Aseos o baños encontrados: 58 ---> <re.Match object; span=(98, 127), match='58 m² cuenta con 1 habitación'>\n",
      "Valores NaN: 85\n"
     ]
    },
    {
     "data": {
      "text/plain": [
       "habitaciones\n",
       "3.0      453\n",
       "4.0      286\n",
       "2.0      166\n",
       "5.0      104\n",
       "6.0       50\n",
       "1.0       34\n",
       "7.0       10\n",
       "8.0        4\n",
       "10.0       2\n",
       "9.0        2\n",
       "300.0      2\n",
       "51.0       1\n",
       "126.0      1\n",
       "200.0      1\n",
       "11.0       1\n",
       "74.0       1\n",
       "67.0       1\n",
       "130.0      1\n",
       "94.0       1\n",
       "70.0       1\n",
       "65.0       1\n",
       "14.0       1\n",
       "16.0       1\n",
       "58.0       1\n",
       "Name: count, dtype: int64"
      ]
     },
     "execution_count": 20,
     "metadata": {},
     "output_type": "execute_result"
    }
   ],
   "source": [
    "import re\n",
    "\n",
    "# Lista de palabras clave relacionadas con habitaciones\n",
    "palabras_clave = [\"habitaciones\", \"habitación\", \"cuarto\", \"dormitorio\", \"habitacion\", \"hab\"]\n",
    "\n",
    "for index, row in df.iterrows():\n",
    "    if pd.isna(row['habitaciones']):  # Si el valor en habitaciones es NaN\n",
    "        descripcion = row['descripcion']\n",
    "\n",
    "        # Si es una lista, concatenar los elementos que son strings\n",
    "        if isinstance(descripcion, list):\n",
    "            descripcion = \" \".join([str(item).lower() for item in descripcion if isinstance(item, str)])\n",
    "        # Si es un string directamente, convertirlo a minúsculas\n",
    "        elif isinstance(descripcion, str):\n",
    "            descripcion = descripcion.lower()\n",
    "        else:\n",
    "            descripcion = \"\"  # Si no es ni lista ni string, lo tratamos como vacío\n",
    "\n",
    "        # Limpiar la descripción para eliminar ruido\n",
    "        descripcion = re.sub(r'[^\\w\\s]', '', descripcion)  # Quitar puntuación\n",
    "\n",
    "        # Verificar si alguna palabra clave está en la descripción\n",
    "        if any(palabra in descripcion for palabra in palabras_clave):\n",
    "            # print(f\"Fila {index}: {descripcion}\")\n",
    "\n",
    "            # Buscar el número asociado a las palabras clave con hasta 4 palabras intermedias\n",
    "            match = re.search(r'(\\d+)\\s*(?:\\w+\\s*){0,4}(' + \"|\".join(palabras_clave) + ')', descripcion)\n",
    "            if match:\n",
    "                habitaciones = int(match.group(1))  # Extraer el número como entero\n",
    "                print(f\"Fila {index}: -------->>> habitaciones encontrados: {habitaciones} ---> {match}\")\n",
    "                # Actualizar el valor de la columna 'habitaciones'\n",
    "                df.at[index, 'habitaciones'] = habitaciones\n",
    "            else:\n",
    "                # Si no hay número, buscar la palabra \"habitaciones\" en singular\n",
    "                if \"baño\" in descripcion or \"aseo\" in descripcion:\n",
    "                    print(f\"Fila {index}: -------->>> Dormitorio detectado sin número, asignando 1.\")\n",
    "                    df.at[index, 'habitaciones'] = 1\n",
    "\n",
    "\n",
    "print(\"Valores NaN:\", df['habitaciones'].isna().sum()) # Mostrará el num de NaNs existentes en la columna\n",
    "df[\"habitaciones\"].value_counts()"
   ]
  },
  {
   "cell_type": "markdown",
   "metadata": {},
   "source": [
    "### Y para los valores descomunales vamos a tratarlos ya que ha tenido que haber un error. Utilizaremos la misma operacion anterior pero afectando sólo a los valores de habitaciones mayores que 11. Adaptaremos el codigo tambien para que en la descripción busque números escritos."
   ]
  },
  {
   "cell_type": "code",
   "execution_count": 21,
   "metadata": {},
   "outputs": [
    {
     "name": "stdout",
     "output_type": "stream",
     "text": [
      "Fila 230: Ignorando número 300 asociado a área: metros\n",
      "Fila 230: -------->>> Valor desproporcionado ajustado a: 4 ---> <re.Match object; span=(33, 47), match='4 habitaciones'>\n",
      "Fila 425: -------->>> Valor desproporcionado ajustado a: 1 ---> <re.Match object; span=(107, 119), match='1 dormitorio'>\n",
      "Fila 453: Ignorando número 126 asociado a área: m2\n",
      "Fila 453: -------->>> Valor desproporcionado no ajustado, asignando 1.\n",
      "Fila 577: -------->>> Valor desproporcionado no ajustado, asignando 1.\n",
      "Fila 638: -------->>> Valor desproporcionado no ajustado, asignando 1.\n",
      "Fila 651: -------->>> Valor desproporcionado no ajustado, asignando 1.\n",
      "Fila 841: -------->>> Valor desproporcionado no ajustado, asignando 1.\n",
      "Fila 843: -------->>> Valor desproporcionado no ajustado, asignando 1.\n",
      "Fila 904: -------->>> Valor desproporcionado ajustado a: 1 ---> <re.Match object; span=(117, 122), match='1 hab'>\n",
      "Fila 913: -------->>> Valor desproporcionado ajustado a: 1 ---> <re.Match object; span=(91, 103), match='1 habitacion'>\n",
      "Fila 948: Ignorando número 300 asociado a área: metros\n",
      "Fila 948: -------->>> Valor desproporcionado ajustado a: 4 ---> <re.Match object; span=(33, 47), match='4 habitaciones'>\n",
      "Fila 1117: -------->>> Valor desproporcionado no ajustado, asignando 1.\n",
      "Fila 1122: -------->>> Valor desproporcionado no ajustado, asignando 1.\n",
      "Fila 1198: -------->>> Valor desproporcionado ajustado a: 1 ---> <re.Match object; span=(115, 127), match='1 habitación'>\n",
      "Valores NaN: 85\n"
     ]
    },
    {
     "data": {
      "text/plain": [
       "habitaciones\n",
       "3.0     453\n",
       "4.0     288\n",
       "2.0     166\n",
       "5.0     104\n",
       "6.0      50\n",
       "1.0      46\n",
       "7.0      10\n",
       "8.0       4\n",
       "10.0      2\n",
       "9.0       2\n",
       "11.0      1\n",
       "Name: count, dtype: int64"
      ]
     },
     "execution_count": 21,
     "metadata": {},
     "output_type": "execute_result"
    }
   ],
   "source": [
    "import re\n",
    "\n",
    "# Lista de palabras clave relacionadas con habitaciones\n",
    "palabras_clave = [\"habitaciones\", \"habitación\", \"cuarto\", \"dormitorio\", \"habitacion\", \"hab\"]\n",
    "\n",
    "# Lista de palabras que indican área o metros cuadrados\n",
    "palabras_area = [\"m2\", \"metros\", \"cuadrados\"]\n",
    "\n",
    "# Mapeo de palabras numéricas a números\n",
    "numero_palabras = {\n",
    "    \"uno\": 1, \"dos\": 2, \"tres\": 3, \"cuatro\": 4, \"cinco\": 5,\n",
    "    \"seis\": 6, \"siete\": 7, \"ocho\": 8, \"nueve\": 9, \"diez\": 10\n",
    "}\n",
    "\n",
    "for index, row in df.iterrows():\n",
    "    if row['habitaciones'] > 11:  # Procesar valores desproporcionados\n",
    "        descripcion = row['descripcion']\n",
    "\n",
    "        # Si es una lista, concatenar los elementos que son strings\n",
    "        if isinstance(descripcion, list):\n",
    "            descripcion = \" \".join([str(item).lower() for item in descripcion if isinstance(item, str)])\n",
    "        elif isinstance(descripcion, str):\n",
    "            descripcion = descripcion.lower()\n",
    "        else:\n",
    "            descripcion = \"\"\n",
    "\n",
    "        # Limpiar la descripción para eliminar ruido\n",
    "        descripcion = re.sub(r'[^\\w\\s]', '', descripcion)\n",
    "\n",
    "        # Buscar todos los números en la descripción junto con palabras clave o palabras de área\n",
    "        matches = re.finditer(r'(\\d+|(?:' + \"|\".join(numero_palabras.keys()) + r'))\\s*(?:\\w+\\s*){0,1}(' + \"|\".join(palabras_clave + palabras_area) + ')', descripcion)\n",
    "        \n",
    "        for match in matches:\n",
    "            numero = match.group(1)\n",
    "            palabra = match.group(2)\n",
    "            \n",
    "            # Ignorar números asociados con palabras de área\n",
    "            if palabra in palabras_area:\n",
    "                print(f\"Fila {index}: Ignorando número {numero} asociado a área: {palabra}\")\n",
    "                continue\n",
    "            \n",
    "            # Si está asociado a palabras clave, procesarlo\n",
    "            if palabra in palabras_clave:\n",
    "                # Convertir el número si está en palabras\n",
    "                if numero.isdigit():\n",
    "                    habitaciones = int(numero)\n",
    "                else:\n",
    "                    habitaciones = numero_palabras.get(numero, 1)\n",
    "                \n",
    "                print(f\"Fila {index}: -------->>> Valor desproporcionado ajustado a: {habitaciones} ---> {match}\")\n",
    "                df.at[index, 'habitaciones'] = habitaciones\n",
    "                break  # Detenerse después de encontrar un número válido\n",
    "        else:\n",
    "            # Si no se encuentra un número válido\n",
    "            print(f\"Fila {index}: -------->>> Valor desproporcionado no ajustado, asignando 1.\")\n",
    "            df.at[index, 'habitaciones'] = 1\n",
    "\n",
    "\n",
    "print(\"Valores NaN:\", df['habitaciones'].isna().sum()) # Mostrará el num de NaNs existentes en la columna\n",
    "df[\"habitaciones\"].value_counts()"
   ]
  },
  {
   "cell_type": "code",
   "execution_count": 22,
   "metadata": {},
   "outputs": [
    {
     "data": {
      "text/html": [
       "<div>\n",
       "<style scoped>\n",
       "    .dataframe tbody tr th:only-of-type {\n",
       "        vertical-align: middle;\n",
       "    }\n",
       "\n",
       "    .dataframe tbody tr th {\n",
       "        vertical-align: top;\n",
       "    }\n",
       "\n",
       "    .dataframe thead th {\n",
       "        text-align: right;\n",
       "    }\n",
       "</style>\n",
       "<table border=\"1\" class=\"dataframe\">\n",
       "  <thead>\n",
       "    <tr style=\"text-align: right;\">\n",
       "      <th></th>\n",
       "      <th>municipio</th>\n",
       "      <th>tipo_vivienda</th>\n",
       "      <th>habitaciones</th>\n",
       "      <th>metros_cuadrados</th>\n",
       "      <th>aseos</th>\n",
       "      <th>planta</th>\n",
       "      <th>descripcion</th>\n",
       "      <th>etiquetas</th>\n",
       "      <th>garaje</th>\n",
       "      <th>precio</th>\n",
       "      <th>zona_centro</th>\n",
       "    </tr>\n",
       "  </thead>\n",
       "  <tbody>\n",
       "    <tr>\n",
       "      <th>48</th>\n",
       "      <td>Manises</td>\n",
       "      <td>Chalet</td>\n",
       "      <td>10.0</td>\n",
       "      <td>800.0</td>\n",
       "      <td>11.0</td>\n",
       "      <td>NaN</td>\n",
       "      <td>MASÍA CON LICENCIA TURÍSTICA EN MANISES\\n\\nMas...</td>\n",
       "      <td>['Parking', 'Terraza', 'Piscina']</td>\n",
       "      <td>No</td>\n",
       "      <td>2000000.0</td>\n",
       "      <td>0</td>\n",
       "    </tr>\n",
       "    <tr>\n",
       "      <th>631</th>\n",
       "      <td>Aldaia</td>\n",
       "      <td>Chalet</td>\n",
       "      <td>11.0</td>\n",
       "      <td>550.0</td>\n",
       "      <td>NaN</td>\n",
       "      <td>NaN</td>\n",
       "      <td>Casa independiente para derribar Situada en ca...</td>\n",
       "      <td>[]</td>\n",
       "      <td>No</td>\n",
       "      <td>265000.0</td>\n",
       "      <td>0</td>\n",
       "    </tr>\n",
       "    <tr>\n",
       "      <th>713</th>\n",
       "      <td>Manises</td>\n",
       "      <td>Chalet</td>\n",
       "      <td>10.0</td>\n",
       "      <td>800.0</td>\n",
       "      <td>11.0</td>\n",
       "      <td>NaN</td>\n",
       "      <td>MASÍA CON LICENCIA TURÍSTICA EN MANISES\\nMasía...</td>\n",
       "      <td>['Lujo', 'Villa']</td>\n",
       "      <td>Sí</td>\n",
       "      <td>2000000.0</td>\n",
       "      <td>0</td>\n",
       "    </tr>\n",
       "  </tbody>\n",
       "</table>\n",
       "</div>"
      ],
      "text/plain": [
       "    municipio tipo_vivienda  habitaciones  metros_cuadrados  aseos planta  \\\n",
       "48    Manises        Chalet          10.0             800.0   11.0    NaN   \n",
       "631    Aldaia        Chalet          11.0             550.0    NaN    NaN   \n",
       "713   Manises        Chalet          10.0             800.0   11.0    NaN   \n",
       "\n",
       "                                           descripcion  \\\n",
       "48   MASÍA CON LICENCIA TURÍSTICA EN MANISES\\n\\nMas...   \n",
       "631  Casa independiente para derribar Situada en ca...   \n",
       "713  MASÍA CON LICENCIA TURÍSTICA EN MANISES\\nMasía...   \n",
       "\n",
       "                             etiquetas garaje     precio  zona_centro  \n",
       "48   ['Parking', 'Terraza', 'Piscina']     No  2000000.0            0  \n",
       "631                                 []     No   265000.0            0  \n",
       "713                  ['Lujo', 'Villa']     Sí  2000000.0            0  "
      ]
     },
     "execution_count": 22,
     "metadata": {},
     "output_type": "execute_result"
    }
   ],
   "source": [
    "df.loc[df[\"habitaciones\"]>9,:]"
   ]
  },
  {
   "cell_type": "markdown",
   "metadata": {},
   "source": [
    "### Para las habitaciones con ***valores NaN***, aplicaremos **SimpleImputer**, donde asignará la **mediana** de habitaciones **segun el tipo de vivienda al que pertenezca.**"
   ]
  },
  {
   "cell_type": "code",
   "execution_count": 23,
   "metadata": {},
   "outputs": [
    {
     "name": "stdout",
     "output_type": "stream",
     "text": [
      "Tipo de vivienda: 'Casa' | Mediana calculada: 4.0 | Truncada: 4\n",
      "Tipo de vivienda: 'Casa adosada' | Mediana calculada: 4.0 | Truncada: 4\n",
      "Tipo de vivienda: 'Chalet' | Mediana calculada: 4.0 | Truncada: 4\n",
      "Tipo de vivienda: 'Estudio' | Mediana calculada: 1.0 | Truncada: 1\n",
      "Tipo de vivienda: 'Piso' | Mediana calculada: 3.0 | Truncada: 3\n",
      "Tipo de vivienda: 'Planta baja' | Mediana calculada: 2.0 | Truncada: 2\n",
      "Valores NaN: 0\n"
     ]
    },
    {
     "data": {
      "text/plain": [
       "habitaciones\n",
       "3.0     512\n",
       "4.0     308\n",
       "2.0     170\n",
       "5.0     104\n",
       "6.0      50\n",
       "1.0      48\n",
       "7.0      10\n",
       "8.0       4\n",
       "10.0      2\n",
       "9.0       2\n",
       "11.0      1\n",
       "Name: count, dtype: int64"
      ]
     },
     "execution_count": 23,
     "metadata": {},
     "output_type": "execute_result"
    }
   ],
   "source": [
    "from sklearn.impute import SimpleImputer\n",
    "\n",
    "# Crear un imputador que use la mediana\n",
    "imputador = SimpleImputer(strategy=\"median\")\n",
    "\n",
    "# Iterar por cada grupo de tipo de vivienda e imputar los valores NaN\n",
    "for tipo, group in df.groupby(\"tipo_vivienda\"):\n",
    "    # Filtrar las filas del grupo\n",
    "    group_indices = group.index\n",
    "    group_data = group[['habitaciones']]\n",
    "\n",
    "    # Imputar los valores NaN en habitaciones dentro del grupo\n",
    "    if group_data['habitaciones'].isna().any():\n",
    "        # Calcular la mediana del grupo antes de imputar\n",
    "        mediana = group_data['habitaciones'].median()\n",
    "\n",
    "        # Truncar la mediana (redondear hacia abajo)\n",
    "        mediana_truncada = int(np.floor(mediana))  # Convertir explícitamente a int\n",
    "\n",
    "        # Mostrar información sobre el grupo y su mediana\n",
    "        print(f\"Tipo de vivienda: '{tipo}' | Mediana calculada: {mediana} | Truncada: {mediana_truncada}\")\n",
    "\n",
    "        # Imputar los valores NaN en habitaciones dentro del grupo\n",
    "        imputados = imputador.fit_transform(group_data)\n",
    "        \n",
    "        # Convertir los valores imputados a enteros redondeados\n",
    "        imputados = np.floor(imputados).astype(int)  # Redondear y convertir a enteros\n",
    "\n",
    "        # Actualizar los valores imputados en el DataFrame original\n",
    "        df.loc[group_indices, 'habitaciones'] = imputados\n",
    "    else:\n",
    "        pass\n",
    "\n",
    "print(\"Valores NaN:\", df['habitaciones'].isna().sum()) # Mostrará el num de NaNs existentes en la columna\n",
    "df[\"habitaciones\"].value_counts()"
   ]
  },
  {
   "cell_type": "markdown",
   "metadata": {},
   "source": [
    "### Para las filas donde no se ha podido encontrar informacion de las habitaciones se han eliminado"
   ]
  },
  {
   "cell_type": "code",
   "execution_count": 24,
   "metadata": {},
   "outputs": [
    {
     "data": {
      "text/html": [
       "<div>\n",
       "<style scoped>\n",
       "    .dataframe tbody tr th:only-of-type {\n",
       "        vertical-align: middle;\n",
       "    }\n",
       "\n",
       "    .dataframe tbody tr th {\n",
       "        vertical-align: top;\n",
       "    }\n",
       "\n",
       "    .dataframe thead th {\n",
       "        text-align: right;\n",
       "    }\n",
       "</style>\n",
       "<table border=\"1\" class=\"dataframe\">\n",
       "  <thead>\n",
       "    <tr style=\"text-align: right;\">\n",
       "      <th></th>\n",
       "      <th>municipio</th>\n",
       "      <th>tipo_vivienda</th>\n",
       "      <th>habitaciones</th>\n",
       "      <th>metros_cuadrados</th>\n",
       "      <th>aseos</th>\n",
       "      <th>planta</th>\n",
       "      <th>descripcion</th>\n",
       "      <th>etiquetas</th>\n",
       "      <th>garaje</th>\n",
       "      <th>precio</th>\n",
       "      <th>zona_centro</th>\n",
       "    </tr>\n",
       "  </thead>\n",
       "  <tbody>\n",
       "    <tr>\n",
       "      <th>0</th>\n",
       "      <td>Manises</td>\n",
       "      <td>Chalet</td>\n",
       "      <td>4.0</td>\n",
       "      <td>414.0</td>\n",
       "      <td>NaN</td>\n",
       "      <td>NaN</td>\n",
       "      <td>Espectacular CASA de pueblo con una ubicada PR...</td>\n",
       "      <td>[]</td>\n",
       "      <td>No</td>\n",
       "      <td>230000.0</td>\n",
       "      <td>0</td>\n",
       "    </tr>\n",
       "    <tr>\n",
       "      <th>1</th>\n",
       "      <td>Manises</td>\n",
       "      <td>Piso</td>\n",
       "      <td>2.0</td>\n",
       "      <td>53.0</td>\n",
       "      <td>1.0</td>\n",
       "      <td>NaN</td>\n",
       "      <td>Sin comisiones de agencia. Piso ubicado en la ...</td>\n",
       "      <td>[]</td>\n",
       "      <td>No</td>\n",
       "      <td>60000.0</td>\n",
       "      <td>0</td>\n",
       "    </tr>\n",
       "  </tbody>\n",
       "</table>\n",
       "</div>"
      ],
      "text/plain": [
       "  municipio tipo_vivienda  habitaciones  metros_cuadrados  aseos planta  \\\n",
       "0   Manises        Chalet           4.0             414.0    NaN    NaN   \n",
       "1   Manises          Piso           2.0              53.0    1.0    NaN   \n",
       "\n",
       "                                         descripcion etiquetas garaje  \\\n",
       "0  Espectacular CASA de pueblo con una ubicada PR...        []     No   \n",
       "1  Sin comisiones de agencia. Piso ubicado en la ...        []     No   \n",
       "\n",
       "     precio  zona_centro  \n",
       "0  230000.0            0  \n",
       "1   60000.0            0  "
      ]
     },
     "execution_count": 24,
     "metadata": {},
     "output_type": "execute_result"
    }
   ],
   "source": [
    "df.head(2)"
   ]
  },
  {
   "cell_type": "markdown",
   "metadata": {},
   "source": [
    "### Continuamos con la columna **\"metros_cuadrados\"**"
   ]
  },
  {
   "cell_type": "code",
   "execution_count": 25,
   "metadata": {},
   "outputs": [
    {
     "name": "stdout",
     "output_type": "stream",
     "text": [
      "1\n"
     ]
    },
    {
     "data": {
      "text/plain": [
       "metros_cuadrados\n",
       "9999.0    1\n",
       "2040.0    1\n",
       "1541.0    1\n",
       "1023.0    1\n",
       "961.0     3\n",
       "         ..\n",
       "46.0      1\n",
       "44.0      1\n",
       "43.0      1\n",
       "21.0      1\n",
       "1.0       3\n",
       "Name: count, Length: 272, dtype: int64"
      ]
     },
     "execution_count": 25,
     "metadata": {},
     "output_type": "execute_result"
    }
   ],
   "source": [
    "print(df['metros_cuadrados'].isna().sum()) # Mostrará el num de NaNs existentes en la columna\n",
    "df[\"metros_cuadrados\"].value_counts().sort_index(ascending=False)"
   ]
  },
  {
   "cell_type": "markdown",
   "metadata": {},
   "source": [
    "### Existe 1 NaN y algunos valores (outliers) muy elevados y pueden darnos problemas."
   ]
  },
  {
   "cell_type": "code",
   "execution_count": 26,
   "metadata": {},
   "outputs": [
    {
     "data": {
      "text/html": [
       "<div>\n",
       "<style scoped>\n",
       "    .dataframe tbody tr th:only-of-type {\n",
       "        vertical-align: middle;\n",
       "    }\n",
       "\n",
       "    .dataframe tbody tr th {\n",
       "        vertical-align: top;\n",
       "    }\n",
       "\n",
       "    .dataframe thead th {\n",
       "        text-align: right;\n",
       "    }\n",
       "</style>\n",
       "<table border=\"1\" class=\"dataframe\">\n",
       "  <thead>\n",
       "    <tr style=\"text-align: right;\">\n",
       "      <th></th>\n",
       "      <th>municipio</th>\n",
       "      <th>tipo_vivienda</th>\n",
       "      <th>habitaciones</th>\n",
       "      <th>metros_cuadrados</th>\n",
       "      <th>aseos</th>\n",
       "      <th>planta</th>\n",
       "      <th>descripcion</th>\n",
       "      <th>etiquetas</th>\n",
       "      <th>garaje</th>\n",
       "      <th>precio</th>\n",
       "      <th>zona_centro</th>\n",
       "    </tr>\n",
       "  </thead>\n",
       "  <tbody>\n",
       "    <tr>\n",
       "      <th>75</th>\n",
       "      <td>Manises</td>\n",
       "      <td>Casa</td>\n",
       "      <td>5.0</td>\n",
       "      <td>NaN</td>\n",
       "      <td>3.0</td>\n",
       "      <td>NaN</td>\n",
       "      <td>Creaespacio Residencial presenta esta casa en ...</td>\n",
       "      <td>['Parking', 'Terraza', 'Balcón']</td>\n",
       "      <td>Sí</td>\n",
       "      <td>390000.0</td>\n",
       "      <td>1</td>\n",
       "    </tr>\n",
       "  </tbody>\n",
       "</table>\n",
       "</div>"
      ],
      "text/plain": [
       "   municipio tipo_vivienda  habitaciones  metros_cuadrados  aseos planta  \\\n",
       "75   Manises          Casa           5.0               NaN    3.0    NaN   \n",
       "\n",
       "                                          descripcion  \\\n",
       "75  Creaespacio Residencial presenta esta casa en ...   \n",
       "\n",
       "                           etiquetas garaje    precio  zona_centro  \n",
       "75  ['Parking', 'Terraza', 'Balcón']     Sí  390000.0            1  "
      ]
     },
     "execution_count": 26,
     "metadata": {},
     "output_type": "execute_result"
    }
   ],
   "source": [
    "df[df[\"metros_cuadrados\"].isna()]"
   ]
  },
  {
   "cell_type": "markdown",
   "metadata": {},
   "source": [
    "### El NaN lo eliminamos y los outliers los revisamos"
   ]
  },
  {
   "cell_type": "code",
   "execution_count": 27,
   "metadata": {},
   "outputs": [
    {
     "name": "stdout",
     "output_type": "stream",
     "text": [
      "NaN: 0\n"
     ]
    }
   ],
   "source": [
    "# Eliminar fila donde \"metros_cuadrados\" es NaN\n",
    "df = df.dropna(subset=[\"metros_cuadrados\"])\n",
    "# Restablecer el índice\n",
    "df = df.reset_index(drop=True)\n",
    "\n",
    "print(\"NaN:\", df['metros_cuadrados'].isna().sum()) # Mostrará el num de NaNs existentes en la columna"
   ]
  },
  {
   "cell_type": "code",
   "execution_count": 28,
   "metadata": {},
   "outputs": [
    {
     "data": {
      "image/png": "[encoded data removed]",
      "text/plain": [
       "<Figure size 1300x500 with 2 Axes>"
      ]
     },
     "metadata": {},
     "output_type": "display_data"
    }
   ],
   "source": [
    "import matplotlib.pyplot as plt\n",
    "import seaborn as sns\n",
    "import numpy as np\n",
    "\n",
    "# Figura combinada con dos gráficos\n",
    "fig, axes = plt.subplots(2, 1, figsize=(13, 5), gridspec_kw={'height_ratios': [1, 2]})\n",
    "\n",
    "# Stripplot horizontal total de metros cuadrados\n",
    "sns.stripplot(x=df['metros_cuadrados'], color='red', alpha=0.5, jitter=True, ax=axes[0])\n",
    "axes[0].set_title(\"Stripplot de metros_cuadrados\")\n",
    "axes[0].set_xlabel(\"\")  # Eliminar título del eje x\n",
    "axes[0].set_ylabel(\"\")  # Eliminar título del eje y\n",
    "\n",
    "# Ajustar ticks del eje x para incluir más marcas\n",
    "axes[0].set_xticks(np.arange(0, df['metros_cuadrados'].max() + 1000, step=1000))  # Marcas cada 1000\n",
    "axes[0].tick_params(axis='x', rotation=45)\n",
    "\n",
    "# Stripplot por tipo de vivienda\n",
    "sns.stripplot(x='tipo_vivienda', y='metros_cuadrados', data=df, color='red', alpha=0.4, jitter=True, ax=axes[1])\n",
    "axes[1].tick_params(axis='x', rotation=15)\n",
    "axes[1].set_xlabel(\"\")  # Eliminar título del eje x\n",
    "axes[1].set_ylabel(\"\")  # Eliminar título del eje y\n",
    "\n",
    "# Ajustar diseño\n",
    "plt.tight_layout()\n",
    "plt.show()\n"
   ]
  },
  {
   "cell_type": "code",
   "execution_count": 29,
   "metadata": {},
   "outputs": [
    {
     "data": {
      "text/html": [
       "<div>\n",
       "<style scoped>\n",
       "    .dataframe tbody tr th:only-of-type {\n",
       "        vertical-align: middle;\n",
       "    }\n",
       "\n",
       "    .dataframe tbody tr th {\n",
       "        vertical-align: top;\n",
       "    }\n",
       "\n",
       "    .dataframe thead th {\n",
       "        text-align: right;\n",
       "    }\n",
       "</style>\n",
       "<table border=\"1\" class=\"dataframe\">\n",
       "  <thead>\n",
       "    <tr style=\"text-align: right;\">\n",
       "      <th></th>\n",
       "      <th>municipio</th>\n",
       "      <th>tipo_vivienda</th>\n",
       "      <th>habitaciones</th>\n",
       "      <th>metros_cuadrados</th>\n",
       "      <th>aseos</th>\n",
       "      <th>planta</th>\n",
       "      <th>descripcion</th>\n",
       "      <th>etiquetas</th>\n",
       "      <th>garaje</th>\n",
       "      <th>precio</th>\n",
       "      <th>zona_centro</th>\n",
       "    </tr>\n",
       "  </thead>\n",
       "  <tbody>\n",
       "    <tr>\n",
       "      <th>306</th>\n",
       "      <td>Manises</td>\n",
       "      <td>Piso</td>\n",
       "      <td>3.0</td>\n",
       "      <td>9999.0</td>\n",
       "      <td>NaN</td>\n",
       "      <td>NaN</td>\n",
       "      <td>Vivienda en el municipio de Paterna, provincia...</td>\n",
       "      <td>[]</td>\n",
       "      <td>No</td>\n",
       "      <td>90000.0</td>\n",
       "      <td>0</td>\n",
       "    </tr>\n",
       "    <tr>\n",
       "      <th>313</th>\n",
       "      <td>Manises</td>\n",
       "      <td>Chalet</td>\n",
       "      <td>5.0</td>\n",
       "      <td>2040.0</td>\n",
       "      <td>3.0</td>\n",
       "      <td>NaN</td>\n",
       "      <td>Sus tres cúpulas ubicadas en la zona alta y su...</td>\n",
       "      <td>['Parking', 'Terraza']</td>\n",
       "      <td>No</td>\n",
       "      <td>1200000.0</td>\n",
       "      <td>0</td>\n",
       "    </tr>\n",
       "    <tr>\n",
       "      <th>320</th>\n",
       "      <td>Manises</td>\n",
       "      <td>Finca</td>\n",
       "      <td>6.0</td>\n",
       "      <td>1023.0</td>\n",
       "      <td>5.0</td>\n",
       "      <td>NaN</td>\n",
       "      <td>¡Bienvenido a esta espectacular masía, donde l...</td>\n",
       "      <td>['Parking', 'Terraza']</td>\n",
       "      <td>No</td>\n",
       "      <td>690000.0</td>\n",
       "      <td>0</td>\n",
       "    </tr>\n",
       "    <tr>\n",
       "      <th>502</th>\n",
       "      <td>Manises</td>\n",
       "      <td>Chalet</td>\n",
       "      <td>7.0</td>\n",
       "      <td>1541.0</td>\n",
       "      <td>NaN</td>\n",
       "      <td>NaN</td>\n",
       "      <td>Masía con tres viviendas independientes en gra...</td>\n",
       "      <td>[]</td>\n",
       "      <td>Sí</td>\n",
       "      <td>900000.0</td>\n",
       "      <td>0</td>\n",
       "    </tr>\n",
       "  </tbody>\n",
       "</table>\n",
       "</div>"
      ],
      "text/plain": [
       "    municipio tipo_vivienda  habitaciones  metros_cuadrados  aseos planta  \\\n",
       "306   Manises          Piso           3.0            9999.0    NaN    NaN   \n",
       "313   Manises        Chalet           5.0            2040.0    3.0    NaN   \n",
       "320   Manises         Finca           6.0            1023.0    5.0    NaN   \n",
       "502   Manises        Chalet           7.0            1541.0    NaN    NaN   \n",
       "\n",
       "                                           descripcion  \\\n",
       "306  Vivienda en el municipio de Paterna, provincia...   \n",
       "313  Sus tres cúpulas ubicadas en la zona alta y su...   \n",
       "320  ¡Bienvenido a esta espectacular masía, donde l...   \n",
       "502  Masía con tres viviendas independientes en gra...   \n",
       "\n",
       "                  etiquetas garaje     precio  zona_centro  \n",
       "306                      []     No    90000.0            0  \n",
       "313  ['Parking', 'Terraza']     No  1200000.0            0  \n",
       "320  ['Parking', 'Terraza']     No   690000.0            0  \n",
       "502                      []     Sí   900000.0            0  "
      ]
     },
     "execution_count": 29,
     "metadata": {},
     "output_type": "execute_result"
    }
   ],
   "source": [
    "df.loc[df[\"metros_cuadrados\"] > 1000]"
   ]
  },
  {
   "cell_type": "markdown",
   "metadata": {},
   "source": [
    "### Podemos ver los **outliers a partir de los 1000 m2**, en especial el de 9999 m2, y esto **generará problemas** para el modelo, por lo que vamos a **eliminar** todas las filas que contengan un valor **superior a los 1000 m2**."
   ]
  },
  {
   "cell_type": "code",
   "execution_count": 30,
   "metadata": {},
   "outputs": [],
   "source": [
    "df = df[df['metros_cuadrados'] <= 1000]"
   ]
  },
  {
   "cell_type": "code",
   "execution_count": 31,
   "metadata": {},
   "outputs": [
    {
     "data": {
      "image/png": "[encoded data removed]",
      "text/plain": [
       "<Figure size 1300x500 with 2 Axes>"
      ]
     },
     "metadata": {},
     "output_type": "display_data"
    }
   ],
   "source": [
    "import matplotlib.pyplot as plt\n",
    "import seaborn as sns\n",
    "import numpy as np\n",
    "\n",
    "# Figura combinada con dos gráficos\n",
    "fig, axes = plt.subplots(2, 1, figsize=(13, 5), gridspec_kw={'height_ratios': [1, 2]})\n",
    "\n",
    "# Stripplot horizontal total de metros cuadrados\n",
    "sns.stripplot(x=df['metros_cuadrados'], color='red', alpha=0.5, jitter=True, ax=axes[0])\n",
    "axes[0].set_title(\"Stripplot de metros_cuadrados\")\n",
    "axes[0].set_xlabel(\"\")  # Eliminar título del eje x\n",
    "axes[0].set_ylabel(\"\")  # Eliminar título del eje y\n",
    "\n",
    "# Ajustar ticks del eje x para incluir más marcas\n",
    "axes[0].set_xticks(np.arange(0, df['metros_cuadrados'].max() + 10000, step=1000))  # Marcas cada 1000\n",
    "axes[0].tick_params(axis='x', rotation=45)\n",
    "\n",
    "# Stripplot por tipo de vivienda\n",
    "sns.stripplot(x='tipo_vivienda', y='metros_cuadrados', data=df, color='red', alpha=0.4, jitter=True, ax=axes[1])\n",
    "axes[1].tick_params(axis='x', rotation=15)\n",
    "axes[1].set_xlabel(\"\")  # Eliminar título del eje x\n",
    "axes[1].set_ylabel(\"\")  # Eliminar título del eje y\n",
    "\n",
    "# Ajustar diseño\n",
    "plt.tight_layout()\n",
    "plt.show()\n"
   ]
  },
  {
   "cell_type": "code",
   "execution_count": 32,
   "metadata": {},
   "outputs": [
    {
     "data": {
      "text/plain": [
       "metros_cuadrados\n",
       "961.0    3\n",
       "870.0    1\n",
       "847.0    1\n",
       "831.0    1\n",
       "825.0    2\n",
       "        ..\n",
       "46.0     1\n",
       "44.0     1\n",
       "43.0     1\n",
       "21.0     1\n",
       "1.0      3\n",
       "Name: count, Length: 268, dtype: int64"
      ]
     },
     "execution_count": 32,
     "metadata": {},
     "output_type": "execute_result"
    }
   ],
   "source": [
    "df[\"metros_cuadrados\"].value_counts().sort_index(ascending=False)"
   ]
  },
  {
   "cell_type": "markdown",
   "metadata": {},
   "source": [
    "### Continuamos ahora con la columna **\"aseos\"**."
   ]
  },
  {
   "cell_type": "code",
   "execution_count": 33,
   "metadata": {},
   "outputs": [
    {
     "name": "stdout",
     "output_type": "stream",
     "text": [
      "578\n"
     ]
    },
    {
     "data": {
      "text/plain": [
       "aseos\n",
       "2.0     313\n",
       "1.0     170\n",
       "3.0      91\n",
       "4.0      45\n",
       "5.0       4\n",
       "11.0      2\n",
       "6.0       2\n",
       "16.0      1\n",
       "Name: count, dtype: int64"
      ]
     },
     "execution_count": 33,
     "metadata": {},
     "output_type": "execute_result"
    }
   ],
   "source": [
    "print(df['aseos'].isna().sum()) # Mostrará el num de NaNs existentes en la columna\n",
    "df[\"aseos\"].value_counts()"
   ]
  },
  {
   "cell_type": "markdown",
   "metadata": {},
   "source": [
    "### Vamos a utilizar la columna **'Descripción'** para ver si podemos extraer información para **\"aseos\"**, ya que esta tiene muchos valores NaNs."
   ]
  },
  {
   "cell_type": "code",
   "execution_count": 34,
   "metadata": {},
   "outputs": [
    {
     "data": {
      "text/plain": [
       "np.int64(18)"
      ]
     },
     "execution_count": 34,
     "metadata": {},
     "output_type": "execute_result"
    }
   ],
   "source": [
    "df['descripcion'].isna().sum() # Mostrará el num de NaNs existentes en la columna"
   ]
  },
  {
   "cell_type": "code",
   "execution_count": 35,
   "metadata": {},
   "outputs": [
    {
     "name": "stdout",
     "output_type": "stream",
     "text": [
      "Fila 212: -------->>> Aseos o baños encontrados: 3 ---> <re.Match object; span=(62, 82), match='3 dormitorios 2 baño'>\n",
      "Fila 229: -------->>> Aseos o baños encontrados: 300 ---> <re.Match object; span=(22, 54), match='300 metros 4 habitaciones 1 baño'>\n",
      "Fila 384: -------->>> 'Baño' o 'aseo' detectado sin número, asignando 1.\n",
      "Fila 395: -------->>> 'Baño' o 'aseo' detectado sin número, asignando 1.\n",
      "Fila 397: -------->>> Aseos o baños encontrados: 4 ---> <re.Match object; span=(102, 125), match='4 habitaciones dos baño'>\n",
      "Fila 401: -------->>> 'Baño' o 'aseo' detectado sin número, asignando 1.\n",
      "Fila 402: -------->>> Aseos o baños encontrados: 1 ---> <re.Match object; span=(177, 183), match='1 aseo'>\n",
      "Fila 403: -------->>> 'Baño' o 'aseo' detectado sin número, asignando 1.\n",
      "Fila 404: -------->>> 'Baño' o 'aseo' detectado sin número, asignando 1.\n",
      "Fila 410: -------->>> 'Baño' o 'aseo' detectado sin número, asignando 1.\n",
      "Fila 412: -------->>> 'Baño' o 'aseo' detectado sin número, asignando 1.\n",
      "Fila 415: -------->>> 'Baño' o 'aseo' detectado sin número, asignando 1.\n",
      "Fila 422: -------->>> Aseos o baños encontrados: 1 ---> <re.Match object; span=(187, 203), match='1 cuarto de baño'>\n",
      "Fila 431: -------->>> 'Baño' o 'aseo' detectado sin número, asignando 1.\n",
      "Fila 442: -------->>> 'Baño' o 'aseo' detectado sin número, asignando 1.\n",
      "Fila 444: -------->>> Aseos o baños encontrados: 4 ---> <re.Match object; span=(142, 178), match='4 habitaciones la principal con baño'>\n",
      "Fila 449: -------->>> Aseos o baños encontrados: 4 ---> <re.Match object; span=(114, 135), match='4 habitaciones 2 aseo'>\n",
      "Fila 458: -------->>> 'Baño' o 'aseo' detectado sin número, asignando 1.\n",
      "Fila 461: -------->>> 'Baño' o 'aseo' detectado sin número, asignando 1.\n",
      "Fila 463: -------->>> 'Baño' o 'aseo' detectado sin número, asignando 1.\n",
      "Fila 464: -------->>> 'Baño' o 'aseo' detectado sin número, asignando 1.\n",
      "Fila 466: -------->>> 'Baño' o 'aseo' detectado sin número, asignando 1.\n",
      "Fila 467: -------->>> 'Baño' o 'aseo' detectado sin número, asignando 1.\n",
      "Fila 475: -------->>> 'Baño' o 'aseo' detectado sin número, asignando 1.\n",
      "Fila 485: -------->>> Aseos o baños encontrados: 3 ---> <re.Match object; span=(117, 143), match='3 ndormitorios dobles baño'>\n",
      "Fila 544: -------->>> 'Baño' o 'aseo' detectado sin número, asignando 1.\n",
      "Fila 555: -------->>> 'Baño' o 'aseo' detectado sin número, asignando 1.\n",
      "Fila 559: -------->>> 'Baño' o 'aseo' detectado sin número, asignando 1.\n",
      "Fila 560: -------->>> 'Baño' o 'aseo' detectado sin número, asignando 1.\n",
      "Fila 563: -------->>> 'Baño' o 'aseo' detectado sin número, asignando 1.\n",
      "Fila 564: -------->>> 'Baño' o 'aseo' detectado sin número, asignando 1.\n",
      "Fila 565: -------->>> Aseos o baños encontrados: 1 ---> <re.Match object; span=(287, 313), match='1 habitacion amplia y baño'>\n",
      "Fila 567: -------->>> 'Baño' o 'aseo' detectado sin número, asignando 1.\n",
      "Fila 568: -------->>> 'Baño' o 'aseo' detectado sin número, asignando 1.\n",
      "Fila 569: -------->>> 'Baño' o 'aseo' detectado sin número, asignando 1.\n",
      "Fila 583: -------->>> 'Baño' o 'aseo' detectado sin número, asignando 1.\n",
      "Fila 585: -------->>> Aseos o baños encontrados: 3 ---> <re.Match object; span=(146, 178), match='3 amplias habitaciones y un baño'>\n",
      "Fila 592: -------->>> 'Baño' o 'aseo' detectado sin número, asignando 1.\n",
      "Fila 595: -------->>> 'Baño' o 'aseo' detectado sin número, asignando 1.\n",
      "Fila 610: -------->>> 'Baño' o 'aseo' detectado sin número, asignando 1.\n",
      "Fila 614: -------->>> Aseos o baños encontrados: 3 ---> <re.Match object; span=(268, 308), match='3 habitaciones amplias y exteriores baño'>\n",
      "Fila 615: -------->>> Aseos o baños encontrados: 30 ---> <re.Match object; span=(219, 232), match='30m2 dos baño'>\n",
      "Fila 631: -------->>> 'Baño' o 'aseo' detectado sin número, asignando 1.\n",
      "Fila 632: -------->>> Aseos o baños encontrados: 3 ---> <re.Match object; span=(111, 154), match='3 dormitorios dormitorio principal con baño'>\n",
      "Fila 634: -------->>> Aseos o baños encontrados: 2 ---> <re.Match object; span=(209, 246), match='2 3 habitaciones amplias comedor baño'>\n",
      "Fila 638: -------->>> 'Baño' o 'aseo' detectado sin número, asignando 1.\n",
      "Fila 640: -------->>> 'Baño' o 'aseo' detectado sin número, asignando 1.\n",
      "Fila 642: -------->>> Aseos o baños encontrados: 3 ---> <re.Match object; span=(94, 110), match='3 cuarto de baño'>\n",
      "Fila 647: -------->>> Aseos o baños encontrados: 2 ---> <re.Match object; span=(73, 105), match='2 amplias habitaciones y un baño'>\n",
      "Fila 649: -------->>> Aseos o baños encontrados: 2 ---> <re.Match object; span=(34, 65), match='2 plantas 4 habitaciones 1 aseo'>\n",
      "Fila 674: -------->>> 'Baño' o 'aseo' detectado sin número, asignando 1.\n",
      "Fila 684: -------->>> 'Baño' o 'aseo' detectado sin número, asignando 1.\n",
      "Fila 694: -------->>> 'Baño' o 'aseo' detectado sin número, asignando 1.\n",
      "Fila 697: -------->>> 'Baño' o 'aseo' detectado sin número, asignando 1.\n",
      "Fila 724: -------->>> 'Baño' o 'aseo' detectado sin número, asignando 1.\n",
      "Fila 737: -------->>> Aseos o baños encontrados: 3 ---> <re.Match object; span=(153, 177), match='3 habitaciones y un baño'>\n",
      "Fila 740: -------->>> Aseos o baños encontrados: 3 ---> <re.Match object; span=(287, 311), match='3 habitaciones y un baño'>\n",
      "Fila 743: -------->>> 'Baño' o 'aseo' detectado sin número, asignando 1.\n",
      "Fila 749: -------->>> Aseos o baños encontrados: 3 ---> <re.Match object; span=(8, 42), match='3 habitaciones dos cuartos de baño'>\n",
      "Fila 751: -------->>> 'Baño' o 'aseo' detectado sin número, asignando 1.\n",
      "Fila 754: -------->>> 'Baño' o 'aseo' detectado sin número, asignando 1.\n",
      "Fila 762: -------->>> 'Baño' o 'aseo' detectado sin número, asignando 1.\n",
      "Fila 764: -------->>> Aseos o baños encontrados: 1 ---> <re.Match object; span=(299, 315), match='1 cuarto de baño'>\n",
      "Fila 765: -------->>> 'Baño' o 'aseo' detectado sin número, asignando 1.\n",
      "Fila 768: -------->>> 'Baño' o 'aseo' detectado sin número, asignando 1.\n",
      "Fila 775: -------->>> 'Baño' o 'aseo' detectado sin número, asignando 1.\n",
      "Fila 778: -------->>> 'Baño' o 'aseo' detectado sin número, asignando 1.\n",
      "Fila 779: -------->>> 'Baño' o 'aseo' detectado sin número, asignando 1.\n",
      "Fila 782: -------->>> 'Baño' o 'aseo' detectado sin número, asignando 1.\n",
      "Fila 793: -------->>> 'Baño' o 'aseo' detectado sin número, asignando 1.\n",
      "Fila 795: -------->>> 'Baño' o 'aseo' detectado sin número, asignando 1.\n",
      "Fila 796: -------->>> 'Baño' o 'aseo' detectado sin número, asignando 1.\n",
      "Fila 797: -------->>> 'Baño' o 'aseo' detectado sin número, asignando 1.\n",
      "Fila 798: -------->>> Aseos o baños encontrados: 2 ---> <re.Match object; span=(165, 196), match='2\\nactualmente consta de un baño'>\n",
      "Fila 804: -------->>> 'Baño' o 'aseo' detectado sin número, asignando 1.\n",
      "Fila 805: -------->>> 'Baño' o 'aseo' detectado sin número, asignando 1.\n",
      "Fila 806: -------->>> 'Baño' o 'aseo' detectado sin número, asignando 1.\n",
      "Fila 809: -------->>> 'Baño' o 'aseo' detectado sin número, asignando 1.\n",
      "Fila 813: -------->>> Aseos o baños encontrados: 3 ---> <re.Match object; span=(153, 185), match='3 habitaciones 2 cuartos de baño'>\n",
      "Fila 820: -------->>> 'Baño' o 'aseo' detectado sin número, asignando 1.\n",
      "Fila 830: -------->>> 'Baño' o 'aseo' detectado sin número, asignando 1.\n",
      "Fila 836: -------->>> 'Baño' o 'aseo' detectado sin número, asignando 1.\n",
      "Fila 842: -------->>> 'Baño' o 'aseo' detectado sin número, asignando 1.\n",
      "Fila 843: -------->>> 'Baño' o 'aseo' detectado sin número, asignando 1.\n",
      "Fila 845: -------->>> 'Baño' o 'aseo' detectado sin número, asignando 1.\n",
      "Fila 848: -------->>> 'Baño' o 'aseo' detectado sin número, asignando 1.\n",
      "Fila 857: -------->>> 'Baño' o 'aseo' detectado sin número, asignando 1.\n",
      "Fila 867: -------->>> 'Baño' o 'aseo' detectado sin número, asignando 1.\n",
      "Fila 869: -------->>> 'Baño' o 'aseo' detectado sin número, asignando 1.\n",
      "Fila 874: -------->>> Aseos o baños encontrados: 2 ---> <re.Match object; span=(130, 151), match='2 habitaciones 1 baño'>\n",
      "Fila 894: -------->>> Aseos o baños encontrados: 1 ---> <re.Match object; span=(107, 113), match='1 baño'>\n",
      "Fila 895: -------->>> Aseos o baños encontrados: 2 ---> <re.Match object; span=(171, 192), match='2 habitaciones 1 baño'>\n",
      "Fila 912: -------->>> Aseos o baños encontrados: 65 ---> <re.Match object; span=(84, 110), match='65 mts 1 habitacion 1 baño'>\n",
      "Fila 937: -------->>> Aseos o baños encontrados: 2 ---> <re.Match object; span=(80, 101), match='2 habitaciones 1 baño'>\n",
      "Fila 947: -------->>> Aseos o baños encontrados: 300 ---> <re.Match object; span=(22, 54), match='300 metros 4 habitaciones 1 baño'>\n",
      "Fila 985: -------->>> Aseos o baños encontrados: 2 ---> <re.Match object; span=(121, 147), match='2 de ellos son dobles baño'>\n",
      "Fila 986: -------->>> Aseos o baños encontrados: 1 ---> <re.Match object; span=(178, 184), match='1 baño'>\n",
      "Fila 988: -------->>> 'Baño' o 'aseo' detectado sin número, asignando 1.\n",
      "Fila 989: -------->>> Aseos o baños encontrados: 2 ---> <re.Match object; span=(121, 147), match='2 de ellos son dobles baño'>\n",
      "Fila 1008: -------->>> Aseos o baños encontrados: 1 ---> <re.Match object; span=(171, 190), match='1 habitación 1 baño'>\n",
      "Fila 1076: -------->>> 'Baño' o 'aseo' detectado sin número, asignando 1.\n",
      "Fila 1172: -------->>> 'Baño' o 'aseo' detectado sin número, asignando 1.\n",
      "Fila 1179: -------->>> Aseos o baños encontrados: 70 ---> <re.Match object; span=(35, 63), match='70 mts 2 habitaciones 1 baño'>\n",
      "Valores NaN: 475\n"
     ]
    },
    {
     "data": {
      "text/plain": [
       "aseos\n",
       "2.0      322\n",
       "1.0      246\n",
       "3.0      101\n",
       "4.0       48\n",
       "5.0        4\n",
       "11.0       2\n",
       "300.0      2\n",
       "6.0        2\n",
       "30.0       1\n",
       "65.0       1\n",
       "16.0       1\n",
       "70.0       1\n",
       "Name: count, dtype: int64"
      ]
     },
     "execution_count": 35,
     "metadata": {},
     "output_type": "execute_result"
    }
   ],
   "source": [
    "import re\n",
    "\n",
    "# Lista de palabras clave relacionadas con baños o aseos\n",
    "palabras_clave = [\"aseo\", \"aseos\", \"baño\", \"baños\", \"toilet\"]\n",
    "\n",
    "for index, row in df.iterrows():\n",
    "    if pd.isna(row['aseos']):  # Si el valor en aseos es NaN\n",
    "        descripcion = row['descripcion']\n",
    "\n",
    "        # Si es una lista, concatenar los elementos que son strings\n",
    "        if isinstance(descripcion, list):\n",
    "            descripcion = \" \".join([str(item).lower() for item in descripcion if isinstance(item, str)])\n",
    "        # Si es un string directamente, convertirlo a minúsculas\n",
    "        elif isinstance(descripcion, str):\n",
    "            descripcion = descripcion.lower()\n",
    "        else:\n",
    "            descripcion = \"\"  # Si no es ni lista ni string, lo tratamos como vacío\n",
    "\n",
    "        # Limpiar la descripción para eliminar ruido\n",
    "        descripcion = re.sub(r'[^\\w\\s]', '', descripcion)  # Quitar puntuación\n",
    "\n",
    "        # Verificar si alguna palabra clave está en la descripción\n",
    "        if any(palabra in descripcion for palabra in palabras_clave):\n",
    "            # print(f\"Fila {index}: {descripcion}\")\n",
    "\n",
    "            # Buscar el número asociado a las palabras clave con hasta 4 palabras intermedias\n",
    "            match = re.search(r'(\\d+)\\s*(?:\\w+\\s*){0,4}(' + \"|\".join(palabras_clave) + ')', descripcion)\n",
    "            if match:\n",
    "                numero_aseos = int(match.group(1))  # Extraer el número como entero\n",
    "                print(f\"Fila {index}: -------->>> Aseos o baños encontrados: {numero_aseos} ---> {match}\")\n",
    "                # Actualizar el valor de la columna 'aseos'\n",
    "                df.at[index, 'aseos'] = numero_aseos\n",
    "            else:\n",
    "                # Si no hay número, buscar la palabra \"baño\" o \"aseo\" en singular\n",
    "                if \"baño\" in descripcion or \"aseo\" in descripcion:\n",
    "                    print(f\"Fila {index}: -------->>> 'Baño' o 'aseo' detectado sin número, asignando 1.\")\n",
    "                    df.at[index, 'aseos'] = 1\n",
    "\n",
    "\n",
    "print(\"Valores NaN:\", df['aseos'].isna().sum()) # Mostrará el num de NaNs existentes en la columna\n",
    "df[\"aseos\"].value_counts()"
   ]
  },
  {
   "cell_type": "markdown",
   "metadata": {},
   "source": [
    "### Y para los valores descomunales como 65, 300, 30, 70 aseos... vamos a tratarlos ya que ha tenido que haber un error. Utilizaremos la misma operacion anterior pero afectando sólo a los valores de aseos mayores que 11. Adaptaremos el codigo tambien para que en la descripción busque números escritos."
   ]
  },
  {
   "cell_type": "code",
   "execution_count": 36,
   "metadata": {},
   "outputs": [
    {
     "name": "stdout",
     "output_type": "stream",
     "text": [
      "Fila 229: Ignorando número 300 asociado a área: metros\n",
      "Fila 229: -------->>> Valor desproporcionado ajustado a: 1 ---> <re.Match object; span=(48, 54), match='1 baño'>\n",
      "Fila 615: Ignorando número 140 asociado a área: m2\n",
      "Fila 615: Ignorando número 124 asociado a área: m2\n",
      "Fila 615: Ignorando número 30 asociado a área: m2\n",
      "Fila 615: -------->>> Valor desproporcionado ajustado a: 2 ---> <re.Match object; span=(224, 232), match='dos baño'>\n",
      "Fila 912: -------->>> Valor desproporcionado ajustado a: 1 ---> <re.Match object; span=(104, 110), match='1 baño'>\n",
      "Fila 947: Ignorando número 300 asociado a área: metros\n",
      "Fila 947: -------->>> Valor desproporcionado ajustado a: 1 ---> <re.Match object; span=(48, 54), match='1 baño'>\n",
      "Fila 1121: -------->>> Valor desproporcionado no ajustado, asignando 1.\n",
      "Fila 1179: -------->>> Valor desproporcionado ajustado a: 1 ---> <re.Match object; span=(57, 63), match='1 baño'>\n",
      "475\n"
     ]
    },
    {
     "data": {
      "text/plain": [
       "aseos\n",
       "2.0     323\n",
       "1.0     251\n",
       "3.0     101\n",
       "4.0      48\n",
       "5.0       4\n",
       "11.0      2\n",
       "6.0       2\n",
       "Name: count, dtype: int64"
      ]
     },
     "execution_count": 36,
     "metadata": {},
     "output_type": "execute_result"
    }
   ],
   "source": [
    "import re\n",
    "\n",
    "# Lista de palabras clave relacionadas con baños o aseos\n",
    "palabras_clave = [\"aseo\", \"aseos\", \"baño\", \"baños\", \"toilet\"]\n",
    "\n",
    "# Lista de palabras que indican área o metros cuadrados\n",
    "palabras_area = [\"m2\", \"metros\", \"cuadrados\"]\n",
    "\n",
    "# Mapeo de palabras numéricas a números\n",
    "numero_palabras = {\n",
    "    \"uno\": 1, \"dos\": 2, \"tres\": 3, \"cuatro\": 4, \"cinco\": 5,\n",
    "    \"seis\": 6, \"siete\": 7, \"ocho\": 8, \"nueve\": 9, \"diez\": 10\n",
    "}\n",
    "\n",
    "for index, row in df.iterrows():\n",
    "    if row['aseos'] > 11:  # Procesar valores desproporcionados\n",
    "        descripcion = row['descripcion']\n",
    "\n",
    "        # Si es una lista, concatenar los elementos que son strings\n",
    "        if isinstance(descripcion, list):\n",
    "            descripcion = \" \".join([str(item).lower() for item in descripcion if isinstance(item, str)])\n",
    "        elif isinstance(descripcion, str):\n",
    "            descripcion = descripcion.lower()\n",
    "        else:\n",
    "            descripcion = \"\"\n",
    "\n",
    "        # Limpiar la descripción para eliminar ruido\n",
    "        descripcion = re.sub(r'[^\\w\\s]', '', descripcion)\n",
    "\n",
    "        # Buscar todos los números en la descripción junto con palabras clave o palabras de área\n",
    "        matches = re.finditer(r'(\\d+|(?:' + \"|\".join(numero_palabras.keys()) + r'))\\s*(?:\\w+\\s*){0,1}(' + \"|\".join(palabras_clave + palabras_area) + ')', descripcion)\n",
    "        \n",
    "        for match in matches:\n",
    "            numero = match.group(1)\n",
    "            palabra = match.group(2)\n",
    "            \n",
    "            # Ignorar números asociados con palabras de área\n",
    "            if palabra in palabras_area:\n",
    "                print(f\"Fila {index}: Ignorando número {numero} asociado a área: {palabra}\")\n",
    "                continue\n",
    "            \n",
    "            # Si está asociado a palabras clave, procesarlo\n",
    "            if palabra in palabras_clave:\n",
    "                # Convertir el número si está en palabras\n",
    "                if numero.isdigit():\n",
    "                    numero_aseos = int(numero)\n",
    "                else:\n",
    "                    numero_aseos = numero_palabras.get(numero, 1)\n",
    "                \n",
    "                print(f\"Fila {index}: -------->>> Valor desproporcionado ajustado a: {numero_aseos} ---> {match}\")\n",
    "                df.at[index, 'aseos'] = numero_aseos\n",
    "                break  # Detenerse después de encontrar un número válido\n",
    "        else:\n",
    "            # Si no se encuentra un número válido\n",
    "            print(f\"Fila {index}: -------->>> Valor desproporcionado no ajustado, asignando 1.\")\n",
    "            df.at[index, 'aseos'] = 1\n",
    "\n",
    "\n",
    "print(df['aseos'].isna().sum()) # Mostrará el num de NaNs existentes en la columna\n",
    "df[\"aseos\"].value_counts()"
   ]
  },
  {
   "cell_type": "code",
   "execution_count": 37,
   "metadata": {},
   "outputs": [],
   "source": [
    "pd.set_option('display.max_colwidth', None) # Opcion para visualizar todo el ancho de la columna de df\n",
    "# df[df[\"aseos\"] == 11] # Se trata de una masia, por lo que tiene sentido que hayan 11 aseos.\n",
    "# df.loc[df[\"aseos\"]==30,[\"descripcion\"]]\n",
    "pd.reset_option('display.max_colwidth', None) # Opcion para visualizar todo el ancho de la columna de df"
   ]
  },
  {
   "cell_type": "markdown",
   "metadata": {},
   "source": [
    "### Para los NaN que todavia tenemos, vamos a aplicarles **SimpleImputer** con la ***mediana*** de aseos **según el \"tipo de vivienda\"** al que pertenezca dicho valor de aseo no encontrado."
   ]
  },
  {
   "cell_type": "code",
   "execution_count": 38,
   "metadata": {},
   "outputs": [
    {
     "name": "stdout",
     "output_type": "stream",
     "text": [
      "Tipo de vivienda: 'Casa' | Mediana calculada: 2.0 | Truncada: 2\n",
      "Tipo de vivienda: 'Casa adosada' | Mediana calculada: 2.0 | Truncada: 2\n",
      "Tipo de vivienda: 'Chalet' | Mediana calculada: 2.0 | Truncada: 2\n",
      "Tipo de vivienda: 'Estudio' | Mediana calculada: 1.5 | Truncada: 1\n",
      "Tipo de vivienda: 'Finca' | Mediana calculada: 2.0 | Truncada: 2\n",
      "Tipo de vivienda: 'Piso' | Mediana calculada: 2.0 | Truncada: 2\n",
      "Tipo de vivienda: 'Planta baja' | Mediana calculada: 1.0 | Truncada: 1\n",
      "0\n"
     ]
    },
    {
     "data": {
      "text/plain": [
       "aseos\n",
       "2.0     794\n",
       "1.0     255\n",
       "3.0     101\n",
       "4.0      48\n",
       "5.0       4\n",
       "11.0      2\n",
       "6.0       2\n",
       "Name: count, dtype: int64"
      ]
     },
     "execution_count": 38,
     "metadata": {},
     "output_type": "execute_result"
    }
   ],
   "source": [
    "from sklearn.impute import SimpleImputer\n",
    "\n",
    "# Crear un imputador que use la mediana\n",
    "imputador = SimpleImputer(strategy=\"median\")\n",
    "\n",
    "# Iterar por cada grupo de tipo de vivienda e imputar los valores NaN\n",
    "for tipo, group in df.groupby(\"tipo_vivienda\"):\n",
    "    # Filtrar las filas del grupo\n",
    "    group_indices = group.index\n",
    "    group_data = group[['aseos']]\n",
    "\n",
    "    # Imputar los valores NaN en aseos dentro del grupo\n",
    "    if group_data['aseos'].isna().any():\n",
    "        # Calcular la mediana del grupo antes de imputar\n",
    "        mediana = group_data['aseos'].median()\n",
    "\n",
    "        # Truncar la mediana (redondear hacia abajo)\n",
    "        mediana_truncada = int(np.floor(mediana))  # Convertir explícitamente a int\n",
    "\n",
    "        # Mostrar información sobre el grupo y su mediana\n",
    "        print(f\"Tipo de vivienda: '{tipo}' | Mediana calculada: {mediana} | Truncada: {mediana_truncada}\")\n",
    "\n",
    "        # Imputar los valores NaN en aseos dentro del grupo\n",
    "        imputados = imputador.fit_transform(group_data)\n",
    "        \n",
    "        # Convertir los valores imputados a enteros redondeados\n",
    "        imputados = np.floor(imputados).astype(int)  # Redondear y convertir a enteros\n",
    "\n",
    "        # Actualizar los valores imputados en el DataFrame original\n",
    "        df.loc[group_indices, 'aseos'] = imputados\n",
    "    else:\n",
    "        pass\n",
    "\n",
    "print(df['aseos'].isna().sum()) # Mostrará el num de NaNs existentes en la columna\n",
    "df[\"aseos\"].value_counts()"
   ]
  },
  {
   "cell_type": "markdown",
   "metadata": {},
   "source": [
    "### Haremos lo mismo para la columna **\"planta\"**,\n",
    "### pero antes hay que limpiar los datos para tenerlos en ***float***"
   ]
  },
  {
   "cell_type": "code",
   "execution_count": 39,
   "metadata": {},
   "outputs": [
    {
     "name": "stdout",
     "output_type": "stream",
     "text": [
      "Valores NaN: 747\n"
     ]
    },
    {
     "data": {
      "text/plain": [
       "planta\n",
       "2ª planta                           35\n",
       "1ª planta                           35\n",
       "Planta 3ª exterior con ascensor     32\n",
       "Planta 1ª exterior con ascensor     31\n",
       "Planta 2ª exterior con ascensor     28\n",
       "3ª Planta                           23\n",
       "4ª planta                           21\n",
       "1ª Planta                           20\n",
       "2ª Planta                           19\n",
       "Planta 4ª exterior con ascensor     18\n",
       "3ª planta                           18\n",
       "Planta 1ª exterior sin ascensor     17\n",
       "4ª Planta                           14\n",
       "Planta 4ª exterior sin ascensor     14\n",
       "5ª Planta                           13\n",
       "Planta 5ª exterior con ascensor     13\n",
       "Planta 5ª exterior sin ascensor     11\n",
       "5ª planta                           11\n",
       "Planta 2ª exterior sin ascensor     11\n",
       "Planta 3ª exterior sin ascensor      8\n",
       "Planta 6ª exterior con ascensor      7\n",
       "Planta 1ª sin ascensor               6\n",
       "Planta 2ª sin ascensor               5\n",
       "6ª planta                            5\n",
       "7ª planta                            4\n",
       "Planta 10ª exterior con ascensor     4\n",
       "8ª planta                            3\n",
       "7ª Planta                            3\n",
       "Planta 8ª exterior con ascensor      3\n",
       "Planta 4ª sin ascensor               3\n",
       "Planta 1ª con ascensor               3\n",
       "Planta 3ª sin ascensor               3\n",
       "9ª planta                            2\n",
       "Planta 3ª con ascensor               2\n",
       "Planta 5ª sin ascensor               2\n",
       "Planta 3ª interior sin ascensor      2\n",
       "Planta 9ª exterior con ascensor      2\n",
       "6ª Planta                            1\n",
       "+15 Planta                           1\n",
       "Planta 2ª con ascensor               1\n",
       "Planta 4ª interior sin ascensor      1\n",
       "Planta 4ª con ascensor               1\n",
       "Planta 7ª exterior con ascensor      1\n",
       "Planta 6ª con ascensor               1\n",
       "Planta 9ª con ascensor               1\n",
       "Name: count, dtype: int64"
      ]
     },
     "execution_count": 39,
     "metadata": {},
     "output_type": "execute_result"
    }
   ],
   "source": [
    "print(\"Valores NaN:\", df['planta'].isna().sum()) # Mostrará el num de NaNs existentes en la columna\n",
    "df[\"planta\"].value_counts()"
   ]
  },
  {
   "cell_type": "markdown",
   "metadata": {},
   "source": [
    "### La siguiente función **extrae el valor numérico** de cada fila y lo asigna como nuevo valor"
   ]
  },
  {
   "cell_type": "code",
   "execution_count": 40,
   "metadata": {},
   "outputs": [
    {
     "name": "stdout",
     "output_type": "stream",
     "text": [
      "Valores NaN: 747\n"
     ]
    },
    {
     "data": {
      "text/plain": [
       "planta\n",
       "1.0     112\n",
       "2.0      99\n",
       "3.0      88\n",
       "4.0      72\n",
       "5.0      50\n",
       "6.0      14\n",
       "7.0       8\n",
       "8.0       6\n",
       "9.0       5\n",
       "10.0      4\n",
       "15.0      1\n",
       "Name: count, dtype: int64"
      ]
     },
     "execution_count": 40,
     "metadata": {},
     "output_type": "execute_result"
    }
   ],
   "source": [
    "def extraer_numero_planta(texto):\n",
    "    if isinstance(texto, str):\n",
    "        match = re.search(r'(\\d+)', texto)  # Busca el primer número\n",
    "        if match:\n",
    "            return int(match.group(1))  # Retornar el número como entero\n",
    "    return None\n",
    "\n",
    "df['planta'] = df['planta'].apply(extraer_numero_planta)\n",
    "\n",
    "print(\"Valores NaN:\", df['planta'].isna().sum()) # Mostrará el num de NaNs existentes en la columna\n",
    "df[\"planta\"].value_counts()"
   ]
  },
  {
   "cell_type": "markdown",
   "metadata": {},
   "source": [
    "### Para los NaN de la columna, vamos a aplicarles nuevamente **SimpleImputer** con la ***mediana*** de planta **según el \"tipo de vivienda\"** al que pertenezca dicho valor de planta no encontrada. En éste caso hay que mencionar que para el tipo de vivienda como chalet, o finca la planta se considera 0 ya que es una unica vivienda a nivel de suelo."
   ]
  },
  {
   "cell_type": "code",
   "execution_count": 41,
   "metadata": {},
   "outputs": [
    {
     "data": {
      "text/plain": [
       "tipo_vivienda\n",
       "Piso            709\n",
       "Chalet          354\n",
       "Casa            101\n",
       "Casa adosada     17\n",
       "Planta baja      11\n",
       "Finca             9\n",
       "Estudio           5\n",
       "Name: count, dtype: int64"
      ]
     },
     "execution_count": 41,
     "metadata": {},
     "output_type": "execute_result"
    }
   ],
   "source": [
    "df[\"tipo_vivienda\"].value_counts()"
   ]
  },
  {
   "cell_type": "code",
   "execution_count": 42,
   "metadata": {},
   "outputs": [
    {
     "name": "stdout",
     "output_type": "stream",
     "text": [
      "Tipo de vivienda: 'Casa' | Mediana calculada: 4.0 | Truncada: 4\n",
      "Asignado a planta 0 por ser tipo 'Casa adosada'\n",
      "Asignado a planta 0 por ser tipo 'Chalet'\n",
      "Tipo de vivienda: 'Estudio' | Mediana calculada: 2.0 | Truncada: 2\n",
      "Asignado a planta 0 por ser tipo 'Finca'\n",
      "Tipo de vivienda: 'Piso' | Mediana calculada: 3.0 | Truncada: 3\n",
      "Asignado a planta 0 por ser tipo 'Planta baja'\n",
      "\n",
      "Valores NaN en 'planta': 0\n"
     ]
    },
    {
     "data": {
      "text/plain": [
       "planta\n",
       "0.0     391\n",
       "3.0     342\n",
       "4.0     172\n",
       "1.0     112\n",
       "2.0     101\n",
       "5.0      50\n",
       "6.0      14\n",
       "7.0       8\n",
       "8.0       6\n",
       "9.0       5\n",
       "10.0      4\n",
       "15.0      1\n",
       "Name: count, dtype: int64"
      ]
     },
     "execution_count": 42,
     "metadata": {},
     "output_type": "execute_result"
    }
   ],
   "source": [
    "imputador = SimpleImputer(strategy=\"median\")\n",
    "\n",
    "# Asegurar que los valores en 'planta' sean numéricos\n",
    "df['planta'] = pd.to_numeric(df['planta'], errors='coerce')\n",
    "\n",
    "# Iterar por cada grupo de tipo de vivienda e imputar los valores NaN\n",
    "for tipo, group in df.groupby(\"tipo_vivienda\"):\n",
    "    # Filtrar las filas del grupo\n",
    "    group_indices = group.index\n",
    "    group_data = group[['planta']]\n",
    "\n",
    "    # Imputar directamente \"0\" para tipos específicos\n",
    "    if tipo in [\"Finca\", \"Chalet\", \"Planta baja\", \"Casa adosada\"]:\n",
    "        print(f\"Asignado a planta 0 por ser tipo '{tipo}'\")\n",
    "        df.loc[group_indices, 'planta'] = 0\n",
    "    else:\n",
    "        # Imputar los valores NaN para otros tipos de vivienda\n",
    "        if group_data['planta'].isna().any():\n",
    "            # Calcular la mediana del grupo antes de imputar\n",
    "            mediana = group_data['planta'].median()\n",
    "\n",
    "            # Verificar si la mediana es NaN\n",
    "            if np.isnan(mediana):\n",
    "                print(f\"Tipo de vivienda: '{tipo}' tiene una mediana NaN. Se asignará planta 0 por defecto.\")\n",
    "                mediana_truncada = 0\n",
    "            else:\n",
    "                # Truncar la mediana (redondear hacia abajo)\n",
    "                mediana_truncada = int(np.floor(mediana))  # Convertir explícitamente a int\n",
    "\n",
    "            # Mostrar información sobre el grupo y su mediana\n",
    "            print(f\"Tipo de vivienda: '{tipo}' | Mediana calculada: {mediana} | Truncada: {mediana_truncada}\")\n",
    "\n",
    "            # Imputar los valores NaN en planta dentro del grupo\n",
    "            imputados = imputador.fit_transform(group_data)\n",
    "\n",
    "            # Convertir los valores imputados a enteros truncados\n",
    "            imputados = np.floor(imputados).astype(int).ravel()  # Asegurar que sea un array 1D\n",
    "\n",
    "            # Verificar el tamaño antes de asignar\n",
    "            if len(imputados) != len(group_indices):\n",
    "                print(f\"Error: Tamaño de imputados ({len(imputados)}) no coincide con índices ({len(group_indices)})\")\n",
    "            else:\n",
    "                # Actualizar los valores imputados en el DataFrame original\n",
    "                df.loc[group_indices, 'planta'] = imputados\n",
    "\n",
    "\n",
    "print(\"\\nValores NaN en 'planta':\", df['planta'].isna().sum()) # Mostrará el num de NaNs existentes en la columna\n",
    "df[\"planta\"].value_counts()\n"
   ]
  },
  {
   "cell_type": "code",
   "execution_count": 43,
   "metadata": {},
   "outputs": [
    {
     "data": {
      "text/plain": [
       "tipo_vivienda\n",
       "Chalet           354\n",
       "Casa adosada      17\n",
       "Planta baja       11\n",
       "Finca              9\n",
       "Name: count, dtype: int64"
      ]
     },
     "execution_count": 43,
     "metadata": {},
     "output_type": "execute_result"
    }
   ],
   "source": [
    "df.loc[df[\"planta\"] == 0, [\"tipo_vivienda\"]].value_counts() # Para comprobar que la planta 0 son las que mencionamos"
   ]
  },
  {
   "cell_type": "code",
   "execution_count": 44,
   "metadata": {},
   "outputs": [
    {
     "data": {
      "text/html": [
       "<div>\n",
       "<style scoped>\n",
       "    .dataframe tbody tr th:only-of-type {\n",
       "        vertical-align: middle;\n",
       "    }\n",
       "\n",
       "    .dataframe tbody tr th {\n",
       "        vertical-align: top;\n",
       "    }\n",
       "\n",
       "    .dataframe thead th {\n",
       "        text-align: right;\n",
       "    }\n",
       "</style>\n",
       "<table border=\"1\" class=\"dataframe\">\n",
       "  <thead>\n",
       "    <tr style=\"text-align: right;\">\n",
       "      <th></th>\n",
       "      <th>municipio</th>\n",
       "      <th>tipo_vivienda</th>\n",
       "      <th>habitaciones</th>\n",
       "      <th>metros_cuadrados</th>\n",
       "      <th>aseos</th>\n",
       "      <th>planta</th>\n",
       "      <th>descripcion</th>\n",
       "      <th>etiquetas</th>\n",
       "      <th>garaje</th>\n",
       "      <th>precio</th>\n",
       "      <th>zona_centro</th>\n",
       "    </tr>\n",
       "  </thead>\n",
       "  <tbody>\n",
       "    <tr>\n",
       "      <th>0</th>\n",
       "      <td>Manises</td>\n",
       "      <td>Chalet</td>\n",
       "      <td>4.0</td>\n",
       "      <td>414.0</td>\n",
       "      <td>2.0</td>\n",
       "      <td>0.0</td>\n",
       "      <td>Espectacular CASA de pueblo con una ubicada PR...</td>\n",
       "      <td>[]</td>\n",
       "      <td>No</td>\n",
       "      <td>230000.0</td>\n",
       "      <td>0</td>\n",
       "    </tr>\n",
       "  </tbody>\n",
       "</table>\n",
       "</div>"
      ],
      "text/plain": [
       "  municipio tipo_vivienda  habitaciones  metros_cuadrados  aseos  planta  \\\n",
       "0   Manises        Chalet           4.0             414.0    2.0     0.0   \n",
       "\n",
       "                                         descripcion etiquetas garaje  \\\n",
       "0  Espectacular CASA de pueblo con una ubicada PR...        []     No   \n",
       "\n",
       "     precio  zona_centro  \n",
       "0  230000.0            0  "
      ]
     },
     "execution_count": 44,
     "metadata": {},
     "output_type": "execute_result"
    }
   ],
   "source": [
    "df.head(1)"
   ]
  },
  {
   "cell_type": "markdown",
   "metadata": {},
   "source": [
    "### Genial, continuamos con la columna **\"etiquetas\"**, (saltandonos la de **descripción** que sólo la queremos de machaca de la información)"
   ]
  },
  {
   "cell_type": "code",
   "execution_count": 45,
   "metadata": {},
   "outputs": [
    {
     "data": {
      "text/plain": [
       "etiquetas\n",
       "[]                                              539\n",
       "['Piso']                                        220\n",
       "['Parking', 'Terraza']                           68\n",
       "['Casa']                                         59\n",
       "['Chalet']                                       56\n",
       "['Ascensor']                                     53\n",
       "['Villa']                                        35\n",
       "['Terraza']                                      20\n",
       "['Balcón']                                       17\n",
       "['Alquilada']                                    13\n",
       "['Ascensor', 'Parking']                           9\n",
       "['Terraza', 'Piscina']                            8\n",
       "['Ascensor', 'Terraza']                           8\n",
       "['Ascensor', 'Balcón']                            8\n",
       "['Terraza', 'Balcón']                             6\n",
       "['Aire acondicionado']                            6\n",
       "['Terraza', 'Calefacción']                        6\n",
       "['1 hab.', 'Ascensor']                            6\n",
       "['Parking', 'Piscina']                            5\n",
       "['Parking']                                       4\n",
       "['Parking', 'Terraza', 'Piscina']                 4\n",
       "['Bajos']                                         4\n",
       "['Balcón', 'Calefacción']                         4\n",
       "['Lujo', 'Villa']                                 4\n",
       "['Bajos', 'Ascensor']                             4\n",
       "['Calefacción']                                   3\n",
       "['1 hab.']                                        3\n",
       "['En exclusiva', 'Villa']                         2\n",
       "['1 hab.', 'Bajos', 'Ascensor']                   2\n",
       "['Bajos', 'Terraza']                              2\n",
       "['Piscina']                                       2\n",
       "['Cortijo']                                       2\n",
       "['Terraza', 'Aire acondicionado']                 2\n",
       "['Ascensor', 'Aire acondicionado']                1\n",
       "['Parking', 'Terraza', 'Aire acondicionado']      1\n",
       "['Ascensor', 'Parking', 'Terraza']                1\n",
       "['Terraza', 'Piscina', 'Balcón']                  1\n",
       "['Parking', 'Terraza', 'Calefacción']             1\n",
       "['Parking', 'Terraza', 'Balcón']                  1\n",
       "['Parking', 'Calefacción']                        1\n",
       "['Parking', 'Aire acondicionado']                 1\n",
       "['Bajos', 'Terraza', 'Aire acondicionado']        1\n",
       "['1 hab.', 'Bajos', 'Parking']                    1\n",
       "['1 hab.', 'Ascensor', 'Terraza']                 1\n",
       "['Bajos', 'Parking']                              1\n",
       "['Terraza', 'Piscina', 'Calefacción']             1\n",
       "['Entresuelo', 'Terraza']                         1\n",
       "['1 hab.', 'Balcón']                              1\n",
       "['Piscina', 'Aire acondicionado']                 1\n",
       "['1 hab.', 'Parking']                             1\n",
       "['Urge']                                          1\n",
       "['Casa baja']                                     1\n",
       "['Reformado', 'Villa']                            1\n",
       "['En exclusiva']                                  1\n",
       "['Loft']                                          1\n",
       "Name: count, dtype: int64"
      ]
     },
     "execution_count": 45,
     "metadata": {},
     "output_type": "execute_result"
    }
   ],
   "source": [
    "df[\"etiquetas\"].value_counts()"
   ]
  },
  {
   "cell_type": "markdown",
   "metadata": {},
   "source": [
    "### Comprobamos el tipo de datos que son:"
   ]
  },
  {
   "cell_type": "code",
   "execution_count": 46,
   "metadata": {},
   "outputs": [
    {
     "data": {
      "text/plain": [
       "etiquetas\n",
       "<class 'str'>    1206\n",
       "Name: count, dtype: int64"
      ]
     },
     "execution_count": 46,
     "metadata": {},
     "output_type": "execute_result"
    }
   ],
   "source": [
    "df[\"etiquetas\"].apply(type).value_counts()"
   ]
  },
  {
   "cell_type": "markdown",
   "metadata": {},
   "source": [
    "### Vemos que son todo **str** aunque parecieran listas, asi que vamos a **eliminar los caracteres de \"[\" y \"]\"** con el método **.replace()**"
   ]
  },
  {
   "cell_type": "code",
   "execution_count": 47,
   "metadata": {},
   "outputs": [
    {
     "data": {
      "text/plain": [
       "etiquetas\n",
       "                                        539\n",
       "Piso                                    220\n",
       "Parking, Terraza                         68\n",
       "Casa                                     59\n",
       "Chalet                                   56\n",
       "Ascensor                                 53\n",
       "Villa                                    35\n",
       "Terraza                                  20\n",
       "Balcón                                   17\n",
       "Alquilada                                13\n",
       "Ascensor, Parking                         9\n",
       "Terraza, Piscina                          8\n",
       "Ascensor, Terraza                         8\n",
       "Ascensor, Balcón                          8\n",
       "Terraza, Balcón                           6\n",
       "Aire acondicionado                        6\n",
       "Terraza, Calefacción                      6\n",
       "1 hab., Ascensor                          6\n",
       "Parking, Piscina                          5\n",
       "Parking                                   4\n",
       "Parking, Terraza, Piscina                 4\n",
       "Bajos                                     4\n",
       "Balcón, Calefacción                       4\n",
       "Lujo, Villa                               4\n",
       "Bajos, Ascensor                           4\n",
       "Calefacción                               3\n",
       "1 hab.                                    3\n",
       "En exclusiva, Villa                       2\n",
       "1 hab., Bajos, Ascensor                   2\n",
       "Bajos, Terraza                            2\n",
       "Piscina                                   2\n",
       "Cortijo                                   2\n",
       "Terraza, Aire acondicionado               2\n",
       "Ascensor, Aire acondicionado              1\n",
       "Parking, Terraza, Aire acondicionado      1\n",
       "Ascensor, Parking, Terraza                1\n",
       "Terraza, Piscina, Balcón                  1\n",
       "Parking, Terraza, Calefacción             1\n",
       "Parking, Terraza, Balcón                  1\n",
       "Parking, Calefacción                      1\n",
       "Parking, Aire acondicionado               1\n",
       "Bajos, Terraza, Aire acondicionado        1\n",
       "1 hab., Bajos, Parking                    1\n",
       "1 hab., Ascensor, Terraza                 1\n",
       "Bajos, Parking                            1\n",
       "Terraza, Piscina, Calefacción             1\n",
       "Entresuelo, Terraza                       1\n",
       "1 hab., Balcón                            1\n",
       "Piscina, Aire acondicionado               1\n",
       "1 hab., Parking                           1\n",
       "Urge                                      1\n",
       "Casa baja                                 1\n",
       "Reformado, Villa                          1\n",
       "En exclusiva                              1\n",
       "Loft                                      1\n",
       "Name: count, dtype: int64"
      ]
     },
     "execution_count": 47,
     "metadata": {},
     "output_type": "execute_result"
    }
   ],
   "source": [
    "# Aplicar replace a cada elemento de la columna\n",
    "df[\"etiquetas\"] = df[\"etiquetas\"].apply(lambda x: x.replace(\"[\", \"\").replace(\"]\", \"\").replace(\"'\", \"\") if isinstance(x, str) else x)\n",
    "\n",
    "# Alternativa para aplicar replace\n",
    "# df[\"etiquetas\"] = df[\"etiquetas\"].str.replace(\"[\", \"\", regex=False).str.replace(\"]\", \"\", regex=False).str.replace(\"'\", \"\", regex=False)\n",
    "\n",
    "df[\"etiquetas\"].value_counts()"
   ]
  },
  {
   "cell_type": "markdown",
   "metadata": {},
   "source": [
    "### Una vez listos para tratar, especificamos las etiquetas que nos interesan y aplicamos ***get_dummies*** para convertir en columnas nuevas los valores que nos puedan ser relevantes."
   ]
  },
  {
   "cell_type": "code",
   "execution_count": 48,
   "metadata": {},
   "outputs": [
    {
     "data": {
      "text/html": [
       "<div>\n",
       "<style scoped>\n",
       "    .dataframe tbody tr th:only-of-type {\n",
       "        vertical-align: middle;\n",
       "    }\n",
       "\n",
       "    .dataframe tbody tr th {\n",
       "        vertical-align: top;\n",
       "    }\n",
       "\n",
       "    .dataframe thead th {\n",
       "        text-align: right;\n",
       "    }\n",
       "</style>\n",
       "<table border=\"1\" class=\"dataframe\">\n",
       "  <thead>\n",
       "    <tr style=\"text-align: right;\">\n",
       "      <th></th>\n",
       "      <th>municipio</th>\n",
       "      <th>tipo_vivienda</th>\n",
       "      <th>habitaciones</th>\n",
       "      <th>metros_cuadrados</th>\n",
       "      <th>aseos</th>\n",
       "      <th>planta</th>\n",
       "      <th>descripcion</th>\n",
       "      <th>etiquetas</th>\n",
       "      <th>garaje</th>\n",
       "      <th>zona_centro</th>\n",
       "      <th>etiquetas_interes</th>\n",
       "      <th>ascensor</th>\n",
       "      <th>piscina</th>\n",
       "      <th>reformado</th>\n",
       "      <th>terraza</th>\n",
       "      <th>aire_acondicionado</th>\n",
       "      <th>precio</th>\n",
       "    </tr>\n",
       "  </thead>\n",
       "  <tbody>\n",
       "    <tr>\n",
       "      <th>0</th>\n",
       "      <td>Manises</td>\n",
       "      <td>Chalet</td>\n",
       "      <td>4.0</td>\n",
       "      <td>414.0</td>\n",
       "      <td>2.0</td>\n",
       "      <td>0.0</td>\n",
       "      <td>Espectacular CASA de pueblo con una ubicada PR...</td>\n",
       "      <td></td>\n",
       "      <td>No</td>\n",
       "      <td>0</td>\n",
       "      <td></td>\n",
       "      <td>0</td>\n",
       "      <td>0</td>\n",
       "      <td>0</td>\n",
       "      <td>0</td>\n",
       "      <td>0</td>\n",
       "      <td>230000.0</td>\n",
       "    </tr>\n",
       "    <tr>\n",
       "      <th>1</th>\n",
       "      <td>Manises</td>\n",
       "      <td>Piso</td>\n",
       "      <td>2.0</td>\n",
       "      <td>53.0</td>\n",
       "      <td>1.0</td>\n",
       "      <td>3.0</td>\n",
       "      <td>Sin comisiones de agencia. Piso ubicado en la ...</td>\n",
       "      <td></td>\n",
       "      <td>No</td>\n",
       "      <td>0</td>\n",
       "      <td></td>\n",
       "      <td>0</td>\n",
       "      <td>0</td>\n",
       "      <td>0</td>\n",
       "      <td>0</td>\n",
       "      <td>0</td>\n",
       "      <td>60000.0</td>\n",
       "    </tr>\n",
       "  </tbody>\n",
       "</table>\n",
       "</div>"
      ],
      "text/plain": [
       "  municipio tipo_vivienda  habitaciones  metros_cuadrados  aseos  planta  \\\n",
       "0   Manises        Chalet           4.0             414.0    2.0     0.0   \n",
       "1   Manises          Piso           2.0              53.0    1.0     3.0   \n",
       "\n",
       "                                         descripcion etiquetas garaje  \\\n",
       "0  Espectacular CASA de pueblo con una ubicada PR...               No   \n",
       "1  Sin comisiones de agencia. Piso ubicado en la ...               No   \n",
       "\n",
       "   zona_centro etiquetas_interes  ascensor  piscina  reformado  terraza  \\\n",
       "0            0                           0        0          0        0   \n",
       "1            0                           0        0          0        0   \n",
       "\n",
       "   aire_acondicionado    precio  \n",
       "0                   0  230000.0  \n",
       "1                   0   60000.0  "
      ]
     },
     "execution_count": 48,
     "metadata": {},
     "output_type": "execute_result"
    }
   ],
   "source": [
    "etiquetas_interes = ['Reformado', 'Ascensor', 'Terraza', 'Piscina', 'Aire acondicionado']\n",
    "\n",
    "# Filtrar la columna 'etiquetas' para que solo queden las de interés\n",
    "df['etiquetas_interes'] = df['etiquetas'].apply(\n",
    "    lambda x: [etiqueta for etiqueta in x.split(', ') if etiqueta in etiquetas_interes]\n",
    ")\n",
    "\n",
    "# Convertir la columna 'etiquetas_interes' en cadenas de texto separadas por comas\n",
    "df['etiquetas_interes'] = df['etiquetas_interes'].apply(lambda x: ', '.join(x))\n",
    "\n",
    "# Aplicar get_dummies\n",
    "dummies = df['etiquetas_interes'].str.get_dummies(sep=', ')\n",
    "\n",
    "# Renombrar las columnas de dummies a minúsculas\n",
    "dummies.columns = [col.lower() for col in dummies.columns]\n",
    "\n",
    "# Concatenar los dummies con el DataFrame original si lo deseas\n",
    "df = pd.concat([df, dummies], axis=1)\n",
    "\n",
    "# Modificar el nombre de la columna\n",
    "df[\"aire_acondicionado\"] = df.pop('aire acondicionado')\n",
    "\n",
    "# Mover la columna 'precio' al final del DataFrame\n",
    "precio_col = df.pop('precio')\n",
    "df['precio'] = precio_col\n",
    "df.head(2)"
   ]
  },
  {
   "cell_type": "code",
   "execution_count": 49,
   "metadata": {},
   "outputs": [
    {
     "data": {
      "text/plain": [
       "aire_acondicionado    0\n",
       "ascensor              0\n",
       "piscina               0\n",
       "reformado             0\n",
       "terraza               0\n",
       "dtype: int64"
      ]
     },
     "execution_count": 49,
     "metadata": {},
     "output_type": "execute_result"
    }
   ],
   "source": [
    "df[[\"aire_acondicionado\", \"ascensor\", \"piscina\", \"reformado\", \"terraza\"]].isna().sum() # Mostrará el num de NaNs existentes en las columnas"
   ]
  },
  {
   "cell_type": "markdown",
   "metadata": {},
   "source": [
    "### Genial, una vez tenemos la etiquetas más relevantes desglosadas, ya podemos **eliminar las columnas de \"descripción\", \"etiquetas\" y \"etiquetas_interes\"**"
   ]
  },
  {
   "cell_type": "code",
   "execution_count": 50,
   "metadata": {},
   "outputs": [],
   "source": [
    "df = df.drop([\"descripcion\", \"etiquetas\", \"etiquetas_interes\"], axis=1)"
   ]
  },
  {
   "cell_type": "code",
   "execution_count": 51,
   "metadata": {},
   "outputs": [
    {
     "data": {
      "text/html": [
       "<div>\n",
       "<style scoped>\n",
       "    .dataframe tbody tr th:only-of-type {\n",
       "        vertical-align: middle;\n",
       "    }\n",
       "\n",
       "    .dataframe tbody tr th {\n",
       "        vertical-align: top;\n",
       "    }\n",
       "\n",
       "    .dataframe thead th {\n",
       "        text-align: right;\n",
       "    }\n",
       "</style>\n",
       "<table border=\"1\" class=\"dataframe\">\n",
       "  <thead>\n",
       "    <tr style=\"text-align: right;\">\n",
       "      <th></th>\n",
       "      <th>municipio</th>\n",
       "      <th>tipo_vivienda</th>\n",
       "      <th>habitaciones</th>\n",
       "      <th>metros_cuadrados</th>\n",
       "      <th>aseos</th>\n",
       "      <th>planta</th>\n",
       "      <th>garaje</th>\n",
       "      <th>zona_centro</th>\n",
       "      <th>ascensor</th>\n",
       "      <th>piscina</th>\n",
       "      <th>reformado</th>\n",
       "      <th>terraza</th>\n",
       "      <th>aire_acondicionado</th>\n",
       "      <th>precio</th>\n",
       "    </tr>\n",
       "  </thead>\n",
       "  <tbody>\n",
       "    <tr>\n",
       "      <th>0</th>\n",
       "      <td>Manises</td>\n",
       "      <td>Chalet</td>\n",
       "      <td>4.0</td>\n",
       "      <td>414.0</td>\n",
       "      <td>2.0</td>\n",
       "      <td>0.0</td>\n",
       "      <td>No</td>\n",
       "      <td>0</td>\n",
       "      <td>0</td>\n",
       "      <td>0</td>\n",
       "      <td>0</td>\n",
       "      <td>0</td>\n",
       "      <td>0</td>\n",
       "      <td>230000.0</td>\n",
       "    </tr>\n",
       "    <tr>\n",
       "      <th>1</th>\n",
       "      <td>Manises</td>\n",
       "      <td>Piso</td>\n",
       "      <td>2.0</td>\n",
       "      <td>53.0</td>\n",
       "      <td>1.0</td>\n",
       "      <td>3.0</td>\n",
       "      <td>No</td>\n",
       "      <td>0</td>\n",
       "      <td>0</td>\n",
       "      <td>0</td>\n",
       "      <td>0</td>\n",
       "      <td>0</td>\n",
       "      <td>0</td>\n",
       "      <td>60000.0</td>\n",
       "    </tr>\n",
       "    <tr>\n",
       "      <th>2</th>\n",
       "      <td>Manises</td>\n",
       "      <td>Piso</td>\n",
       "      <td>4.0</td>\n",
       "      <td>190.0</td>\n",
       "      <td>1.0</td>\n",
       "      <td>3.0</td>\n",
       "      <td>No</td>\n",
       "      <td>0</td>\n",
       "      <td>0</td>\n",
       "      <td>0</td>\n",
       "      <td>0</td>\n",
       "      <td>0</td>\n",
       "      <td>0</td>\n",
       "      <td>65000.0</td>\n",
       "    </tr>\n",
       "  </tbody>\n",
       "</table>\n",
       "</div>"
      ],
      "text/plain": [
       "  municipio tipo_vivienda  habitaciones  metros_cuadrados  aseos  planta  \\\n",
       "0   Manises        Chalet           4.0             414.0    2.0     0.0   \n",
       "1   Manises          Piso           2.0              53.0    1.0     3.0   \n",
       "2   Manises          Piso           4.0             190.0    1.0     3.0   \n",
       "\n",
       "  garaje  zona_centro  ascensor  piscina  reformado  terraza  \\\n",
       "0     No            0         0        0          0        0   \n",
       "1     No            0         0        0          0        0   \n",
       "2     No            0         0        0          0        0   \n",
       "\n",
       "   aire_acondicionado    precio  \n",
       "0                   0  230000.0  \n",
       "1                   0   60000.0  \n",
       "2                   0   65000.0  "
      ]
     },
     "execution_count": 51,
     "metadata": {},
     "output_type": "execute_result"
    }
   ],
   "source": [
    "df.head(3)"
   ]
  },
  {
   "cell_type": "code",
   "execution_count": 52,
   "metadata": {},
   "outputs": [
    {
     "name": "stdout",
     "output_type": "stream",
     "text": [
      "<class 'pandas.core.frame.DataFrame'>\n",
      "Index: 1206 entries, 0 to 1209\n",
      "Data columns (total 14 columns):\n",
      " #   Column              Non-Null Count  Dtype  \n",
      "---  ------              --------------  -----  \n",
      " 0   municipio           1206 non-null   object \n",
      " 1   tipo_vivienda       1206 non-null   object \n",
      " 2   habitaciones        1206 non-null   float64\n",
      " 3   metros_cuadrados    1206 non-null   float64\n",
      " 4   aseos               1206 non-null   float64\n",
      " 5   planta              1206 non-null   float64\n",
      " 6   garaje              1206 non-null   object \n",
      " 7   zona_centro         1206 non-null   int64  \n",
      " 8   ascensor            1206 non-null   int64  \n",
      " 9   piscina             1206 non-null   int64  \n",
      " 10  reformado           1206 non-null   int64  \n",
      " 11  terraza             1206 non-null   int64  \n",
      " 12  aire_acondicionado  1206 non-null   int64  \n",
      " 13  precio              1201 non-null   float64\n",
      "dtypes: float64(5), int64(6), object(3)\n",
      "memory usage: 173.6+ KB\n"
     ]
    }
   ],
   "source": [
    "df.info()"
   ]
  },
  {
   "cell_type": "markdown",
   "metadata": {},
   "source": [
    "### Los NaNs de la columna precio, que son pocos, los eliminamos directamente ya que en la descripción no se encuentra el precio y no podemos inventarnoslo ni darle una media o mediana de los otros."
   ]
  },
  {
   "cell_type": "code",
   "execution_count": 53,
   "metadata": {},
   "outputs": [
    {
     "data": {
      "text/plain": [
       "np.int64(0)"
      ]
     },
     "execution_count": 53,
     "metadata": {},
     "output_type": "execute_result"
    }
   ],
   "source": [
    "df.dropna(subset=['precio'], inplace=True)\n",
    "# Restablecer el índice\n",
    "df = df.reset_index(drop=True)\n",
    "df[\"precio\"].isna().sum()"
   ]
  },
  {
   "cell_type": "markdown",
   "metadata": {},
   "source": [
    "### **Para finalizar** debemos convertir las columnas \"object\" en numericas, ya sea int o float. Por lo que vamos a emplear la ***herramienta de codificación*** **LabelEncoder()**"
   ]
  },
  {
   "cell_type": "code",
   "execution_count": 54,
   "metadata": {},
   "outputs": [
    {
     "name": "stdout",
     "output_type": "stream",
     "text": [
      "municipio: 0\n",
      "tipo_vivienda: 0\n",
      "garaje: 0\n"
     ]
    }
   ],
   "source": [
    "categoricas = ['municipio', 'tipo_vivienda', 'garaje'] # Comprobamos que no tienen NaN antes de codificar\n",
    "\n",
    "for col in categoricas:\n",
    "    print(f\"{col}:\", df[col].isna().sum())"
   ]
  },
  {
   "cell_type": "markdown",
   "metadata": {},
   "source": [
    "### **Importante guardar las codificaciones** para posteriormente utilizarlas de nuevo en las futuras predicciones."
   ]
  },
  {
   "cell_type": "code",
   "execution_count": 55,
   "metadata": {},
   "outputs": [
    {
     "name": "stdout",
     "output_type": "stream",
     "text": [
      "Mapeos y LabelEncoders guardados correctamente.\n",
      "municipio: {'Aldaia': np.int64(0), 'Manises': np.int64(1), 'Otro': np.int64(2), 'Paterna': np.int64(3), 'Quart de Poblet': np.int64(4), 'Riba-Roja de Túria': np.int64(5)}\n",
      "\n",
      "\n",
      "tipo_vivienda: {'Casa': np.int64(0), 'Casa adosada': np.int64(1), 'Chalet': np.int64(2), 'Estudio': np.int64(3), 'Finca': np.int64(4), 'Piso': np.int64(5), 'Planta baja': np.int64(6)}\n",
      "\n",
      "\n",
      "garaje: {'No': np.int64(0), 'Sí': np.int64(1)}\n",
      "\n",
      "\n"
     ]
    }
   ],
   "source": [
    "import joblib\n",
    "from sklearn.preprocessing import LabelEncoder\n",
    "\n",
    "mapeos = {} # Dict para almacenar los mapeos\n",
    "label_encoders = {}  # Para almacenar los encoders de cada columna\n",
    "\n",
    "for col in categoricas:\n",
    "    le = LabelEncoder()\n",
    "    df[col] = le.fit_transform(df[col])\n",
    "    mapeos[col] = dict(zip(le.classes_, le.transform(le.classes_)))\n",
    "    label_encoders[col] = le  # Guarda el encoder para cada columna por si necesitas revertirlo\n",
    "\n",
    "# Guardar los mapeos y los encoders\n",
    "joblib.dump(mapeos, \"mapeos.pkl\")\n",
    "joblib.dump(label_encoders, \"label_encoders.pkl\")\n",
    "\n",
    "print(\"Mapeos y LabelEncoders guardados correctamente.\\n\")\n",
    "\n",
    "for columna, mapeo in mapeos.items():\n",
    "    print(f\"{columna}: {mapeo}\")\n",
    "    print(\"\\n\")"
   ]
  },
  {
   "cell_type": "code",
   "execution_count": 56,
   "metadata": {},
   "outputs": [
    {
     "data": {
      "text/html": [
       "<div>\n",
       "<style scoped>\n",
       "    .dataframe tbody tr th:only-of-type {\n",
       "        vertical-align: middle;\n",
       "    }\n",
       "\n",
       "    .dataframe tbody tr th {\n",
       "        vertical-align: top;\n",
       "    }\n",
       "\n",
       "    .dataframe thead th {\n",
       "        text-align: right;\n",
       "    }\n",
       "</style>\n",
       "<table border=\"1\" class=\"dataframe\">\n",
       "  <thead>\n",
       "    <tr style=\"text-align: right;\">\n",
       "      <th></th>\n",
       "      <th>municipio</th>\n",
       "      <th>tipo_vivienda</th>\n",
       "      <th>habitaciones</th>\n",
       "      <th>metros_cuadrados</th>\n",
       "      <th>aseos</th>\n",
       "      <th>planta</th>\n",
       "      <th>garaje</th>\n",
       "      <th>zona_centro</th>\n",
       "      <th>ascensor</th>\n",
       "      <th>piscina</th>\n",
       "      <th>reformado</th>\n",
       "      <th>terraza</th>\n",
       "      <th>aire_acondicionado</th>\n",
       "      <th>precio</th>\n",
       "    </tr>\n",
       "  </thead>\n",
       "  <tbody>\n",
       "    <tr>\n",
       "      <th>0</th>\n",
       "      <td>1</td>\n",
       "      <td>2</td>\n",
       "      <td>4.0</td>\n",
       "      <td>414.0</td>\n",
       "      <td>2.0</td>\n",
       "      <td>0.0</td>\n",
       "      <td>0</td>\n",
       "      <td>0</td>\n",
       "      <td>0</td>\n",
       "      <td>0</td>\n",
       "      <td>0</td>\n",
       "      <td>0</td>\n",
       "      <td>0</td>\n",
       "      <td>230000.0</td>\n",
       "    </tr>\n",
       "    <tr>\n",
       "      <th>1</th>\n",
       "      <td>1</td>\n",
       "      <td>5</td>\n",
       "      <td>2.0</td>\n",
       "      <td>53.0</td>\n",
       "      <td>1.0</td>\n",
       "      <td>3.0</td>\n",
       "      <td>0</td>\n",
       "      <td>0</td>\n",
       "      <td>0</td>\n",
       "      <td>0</td>\n",
       "      <td>0</td>\n",
       "      <td>0</td>\n",
       "      <td>0</td>\n",
       "      <td>60000.0</td>\n",
       "    </tr>\n",
       "    <tr>\n",
       "      <th>2</th>\n",
       "      <td>1</td>\n",
       "      <td>5</td>\n",
       "      <td>4.0</td>\n",
       "      <td>190.0</td>\n",
       "      <td>1.0</td>\n",
       "      <td>3.0</td>\n",
       "      <td>0</td>\n",
       "      <td>0</td>\n",
       "      <td>0</td>\n",
       "      <td>0</td>\n",
       "      <td>0</td>\n",
       "      <td>0</td>\n",
       "      <td>0</td>\n",
       "      <td>65000.0</td>\n",
       "    </tr>\n",
       "  </tbody>\n",
       "</table>\n",
       "</div>"
      ],
      "text/plain": [
       "   municipio  tipo_vivienda  habitaciones  metros_cuadrados  aseos  planta  \\\n",
       "0          1              2           4.0             414.0    2.0     0.0   \n",
       "1          1              5           2.0              53.0    1.0     3.0   \n",
       "2          1              5           4.0             190.0    1.0     3.0   \n",
       "\n",
       "   garaje  zona_centro  ascensor  piscina  reformado  terraza  \\\n",
       "0       0            0         0        0          0        0   \n",
       "1       0            0         0        0          0        0   \n",
       "2       0            0         0        0          0        0   \n",
       "\n",
       "   aire_acondicionado    precio  \n",
       "0                   0  230000.0  \n",
       "1                   0   60000.0  \n",
       "2                   0   65000.0  "
      ]
     },
     "execution_count": 56,
     "metadata": {},
     "output_type": "execute_result"
    }
   ],
   "source": [
    "df.head(3)"
   ]
  },
  {
   "cell_type": "code",
   "execution_count": 57,
   "metadata": {},
   "outputs": [
    {
     "name": "stdout",
     "output_type": "stream",
     "text": [
      "<class 'pandas.core.frame.DataFrame'>\n",
      "RangeIndex: 1201 entries, 0 to 1200\n",
      "Data columns (total 14 columns):\n",
      " #   Column              Non-Null Count  Dtype  \n",
      "---  ------              --------------  -----  \n",
      " 0   municipio           1201 non-null   int64  \n",
      " 1   tipo_vivienda       1201 non-null   int64  \n",
      " 2   habitaciones        1201 non-null   float64\n",
      " 3   metros_cuadrados    1201 non-null   float64\n",
      " 4   aseos               1201 non-null   float64\n",
      " 5   planta              1201 non-null   float64\n",
      " 6   garaje              1201 non-null   int64  \n",
      " 7   zona_centro         1201 non-null   int64  \n",
      " 8   ascensor            1201 non-null   int64  \n",
      " 9   piscina             1201 non-null   int64  \n",
      " 10  reformado           1201 non-null   int64  \n",
      " 11  terraza             1201 non-null   int64  \n",
      " 12  aire_acondicionado  1201 non-null   int64  \n",
      " 13  precio              1201 non-null   float64\n",
      "dtypes: float64(5), int64(9)\n",
      "memory usage: 131.5 KB\n"
     ]
    }
   ],
   "source": [
    "df.info()"
   ]
  },
  {
   "cell_type": "markdown",
   "metadata": {},
   "source": [
    "### LISTO! Ahora comprobamos que no tenemos ***valores repetidos*** y ***exportamos a un CSV*** para comenzar con el **entrenamiento el modelo!**"
   ]
  },
  {
   "cell_type": "code",
   "execution_count": 58,
   "metadata": {},
   "outputs": [
    {
     "name": "stdout",
     "output_type": "stream",
     "text": [
      "Antes de eliminar duplicados: (1201, 14)\n",
      "Después de eliminar duplicados: (1113, 14)\n"
     ]
    }
   ],
   "source": [
    "print(f\"Antes de eliminar duplicados: {df.shape}\")\n",
    "\n",
    "# Nos basamos en las features más importantes de la vivienda para comprobar duplicados:\n",
    "df = df.drop_duplicates(subset=['municipio', 'tipo_vivienda', 'habitaciones', 'metros_cuadrados', 'aseos', 'planta', 'zona_centro', 'precio'])\n",
    "\n",
    "print(f\"Después de eliminar duplicados: {df.shape}\")"
   ]
  },
  {
   "cell_type": "code",
   "execution_count": 59,
   "metadata": {},
   "outputs": [],
   "source": [
    "df.to_csv(\"../data/definitivo.csv\", index=0)"
   ]
  },
  {
   "cell_type": "markdown",
   "metadata": {},
   "source": [
    "#### Los entrenamientos se realizan por separado en diferentes Notebooks, con nombre **'modelo'.ipynb**"
   ]
  },
  {
   "cell_type": "markdown",
   "metadata": {},
   "source": [
    "## Importante echar un vistazo a la **relación** resultante que tiene **cada feature respecto al target**, para hacernos una idea de lo que nos ha quedado y con lo que vamos a entrenar. (posiblemente hayan cambios según las necesidades)"
   ]
  },
  {
   "cell_type": "code",
   "execution_count": null,
   "metadata": {},
   "outputs": [],
   "source": [
    "# Crear una figura con subplots\n",
    "fig, axes = plt.subplots(nrows=5, ncols=2, figsize=(14, 20))\n",
    "axes = axes.flatten()\n",
    "\n",
    "# Paleta de colores\n",
    "colors = [\"#FF9999\", \"#66B3FF\", \"#99FF99\", \"#FFCC99\", \"#C1C1C1\",\n",
    "          \"#FF6666\", \"#85C1E9\", \"#F7DC6F\", \"#D2B4DE\", \"#76D7C4\"]\n",
    "\n",
    "# Relación entre metros_cuadrados y precio\n",
    "sns.scatterplot(x=df['metros_cuadrados'], y=df['precio'], ax=axes[0], color=colors[0])\n",
    "axes[0].set_title(\"Precio x Metros Cuadrados\")\n",
    "axes[0].set_xlabel(\"Metros Cuadrados\")\n",
    "axes[0].set_ylabel(\"Precio\")\n",
    "\n",
    "# Boxplot para aseos\n",
    "sns.boxplot(x=df['aseos'], y=df['precio'], ax=axes[1], color=colors[1])\n",
    "axes[1].set_title(\"Precio x num de Aseos\")\n",
    "axes[1].set_ylabel(\"Precio\")\n",
    "\n",
    "# Boxplot para municipio\n",
    "sns.boxplot(x=df['municipio'], y=df['precio'], ax=axes[2], color=colors[2])\n",
    "axes[2].set_title(\"Precio x Municipio\")\n",
    "axes[2].set_xlabel(\"Aldaia=0, Manises=1, Otros=2, Paterna=3, QuartdePoblet=4, Riba-Roja=5\")\n",
    "axes[2].set_ylabel(\"Precio\")\n",
    "\n",
    "# Boxplot para zona_centro\n",
    "sns.boxplot(x=df['zona_centro'], y=df['precio'], ax=axes[3], color=colors[3])\n",
    "axes[3].set_title(\"Precio x Zona Centro\")\n",
    "axes[3].set_xlabel(\"Zona Centro (0=No, 1=Sí)\")\n",
    "axes[3].set_ylabel(\"Precio\")\n",
    "\n",
    "# Boxplot para planta\n",
    "sns.boxplot(x=df['planta'], y=df['precio'], ax=axes[4], color=colors[4])\n",
    "axes[4].set_title(\"Precio x Planta\")\n",
    "axes[4].set_xlabel(\"Planta\")\n",
    "axes[4].set_ylabel(\"Precio\")\n",
    "\n",
    "# Boxplot para habitaciones\n",
    "sns.boxplot(x=df['habitaciones'], y=df['precio'], ax=axes[5], color=colors[5])\n",
    "axes[5].set_title(\"Precio x Habitaciones\")\n",
    "axes[5].set_xlabel(\"Habitaciones\")\n",
    "axes[5].set_ylabel(\"Precio\")\n",
    "\n",
    "# Boxplot para terraza\n",
    "sns.boxplot(x=df['terraza'], y=df['precio'], ax=axes[6], color=colors[6])\n",
    "axes[6].set_title(\"Precio x Terraza\")\n",
    "axes[6].set_xlabel(\"Terraza (0=No, 1=Sí)\")\n",
    "axes[6].set_ylabel(\"Precio\")\n",
    "\n",
    "# Boxplot para tipo vivienda\n",
    "sns.boxplot(x=df['tipo_vivienda'], y=df['precio'], ax=axes[7], color=colors[7])\n",
    "axes[7].set_title(\"Precio x Tipo Vivienda\")\n",
    "axes[7].set_xlabel(\"Casa=0, CasaAdosada=1, Chalet=2, Estudio=3, Finca=4, Piso=5, Plt.Baja=6\")\n",
    "axes[7].set_ylabel(\"Precio\")\n",
    "\n",
    "# Boxplot para Garaje\n",
    "sns.boxplot(x=df['garaje'], y=df['precio'], ax=axes[8], color=colors[8])\n",
    "axes[8].set_title(\"Precio x Garaje\")\n",
    "axes[8].set_xlabel(\"Garaje (0=No, 1=Sí)\")\n",
    "axes[8].set_ylabel(\"Precio\")\n",
    "\n",
    "# Boxplot para aire acondicionado\n",
    "sns.boxplot(x=df['aire_acondicionado'], y=df['precio'], ax=axes[9], color=colors[9])\n",
    "axes[9].set_title(\"Precio x Aire Acondicionado\")\n",
    "axes[9].set_xlabel(\"Aire Acondicionado (0=No, 1=Sí)\")\n",
    "axes[9].set_ylabel(\"Precio\")\n",
    "\n",
    "# Ajustar diseño\n",
    "plt.tight_layout()\n",
    "plt.show()\n"
   ]
  }
 ],
 "metadata": {
  "kernelspec": {
   "display_name": "data_analysis_env",
   "language": "python",
   "name": "python3"
  },
  "language_info": {
   "codemirror_mode": {
    "name": "ipython",
    "version": 3
   },
   "file_extension": ".py",
   "mimetype": "text/x-python",
   "name": "python",
   "nbconvert_exporter": "python",
   "pygments_lexer": "ipython3",
   "version": "3.11.10"
  }
 },
 "nbformat": 4,
 "nbformat_minor": 2
}
